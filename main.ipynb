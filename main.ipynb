{
 "cells": [
  {
   "cell_type": "markdown",
   "source": [
    "# Data Dive 3\n",
    "## The Billionaire's Club\n",
    "\n",
    "### Katherine Simon, James Evans, Ashton Morgan, Nicholas Sartino "
   ],
   "metadata": {
    "collapsed": false
   },
   "id": "65fac67bfb2b9571"
  },
  {
   "cell_type": "code",
   "execution_count": 153,
   "outputs": [],
   "source": [
    "# Imports\n",
    "\n",
    "import pandas as pd\n",
    "import matplotlib.pyplot as plt\n",
    "import seaborn as sns\n",
    "import numpy as np\n",
    "\n",
    "plt.style.use('fivethirtyeight')\n",
    "%matplotlib inline\n",
    "\n",
    "import warnings\n",
    "warnings.filterwarnings(\"ignore\")\n",
    "\n",
    "\n",
    "from sklearn.model_selection import train_test_split\n",
    "from sklearn.preprocessing import StandardScaler\n",
    "from sklearn.compose import ColumnTransformer\n",
    "from sklearn.preprocessing import OneHotEncoder\n",
    "import statsmodels.api as sm\n",
    "import plotly.express as px\n"
   ],
   "metadata": {
    "collapsed": false,
    "ExecuteTime": {
     "end_time": "2023-11-05T02:58:33.730898Z",
     "start_time": "2023-11-05T02:58:33.582007Z"
    }
   },
   "id": "1ac4019c"
  },
  {
   "cell_type": "code",
   "execution_count": 36,
   "id": "151e7451",
   "metadata": {
    "ExecuteTime": {
     "end_time": "2023-11-03T02:48:08.880291Z",
     "start_time": "2023-11-03T02:48:08.859636Z"
    }
   },
   "outputs": [],
   "source": [
    "# Read data\n",
    "\n",
    "df = pd.read_csv('forbes_2640_billionaires.csv', index_col = 0, header = 0)"
   ]
  },
  {
   "cell_type": "code",
   "execution_count": 37,
   "id": "8eac9ea8",
   "metadata": {
    "ExecuteTime": {
     "end_time": "2023-11-03T02:48:09.389626Z",
     "start_time": "2023-11-03T02:48:09.371681Z"
    }
   },
   "outputs": [
    {
     "name": "stdout",
     "output_type": "stream",
     "text": [
      "<class 'pandas.core.frame.DataFrame'>\n",
      "Index: 2640 entries, 1 to 2540\n",
      "Data columns (total 22 columns):\n",
      " #   Column              Non-Null Count  Dtype  \n",
      "---  ------              --------------  -----  \n",
      " 0   name                2640 non-null   object \n",
      " 1   forbes_id           2640 non-null   object \n",
      " 2   net_worth           2640 non-null   float64\n",
      " 3   age                 2575 non-null   float64\n",
      " 4   age_range           2640 non-null   int64  \n",
      " 5   country             2640 non-null   object \n",
      " 6   source              2640 non-null   object \n",
      " 7   industry            2640 non-null   object \n",
      " 8   Age                 2555 non-null   float64\n",
      " 9   Source of Wealth    2639 non-null   object \n",
      " 10  Self-Made Score     558 non-null    float64\n",
      " 11  Philanthropy Score  411 non-null    float64\n",
      " 12  Residence           2581 non-null   object \n",
      " 13  Citizenship         2629 non-null   object \n",
      " 14  Marital Status      2089 non-null   object \n",
      " 15  Children            1598 non-null   float64\n",
      " 16  Education           1415 non-null   object \n",
      " 17  Bachelor            1416 non-null   float64\n",
      " 18  Master              1416 non-null   float64\n",
      " 19  Doctorate           1416 non-null   float64\n",
      " 20  Drop Out            1416 non-null   float64\n",
      " 21  Self Made           2640 non-null   int64  \n",
      "dtypes: float64(10), int64(2), object(10)\n",
      "memory usage: 474.4+ KB\n"
     ]
    }
   ],
   "source": [
    "# Basic Info\n",
    "\n",
    "df.info()"
   ]
  },
  {
   "cell_type": "code",
   "execution_count": 5,
   "id": "8f4cce54",
   "metadata": {
    "ExecuteTime": {
     "end_time": "2023-11-03T02:30:15.104521Z",
     "start_time": "2023-11-03T02:30:15.072101Z"
    }
   },
   "outputs": [
    {
     "data": {
      "text/plain": "                          name        forbes_id  net_worth   age  age_range  \\\nrank                                                                          \n1     Bernard Arnault & family  bernard-arnault      211.0  74.0          8   \n2                    Elon Musk        elon-musk      180.0  51.0          6   \n3                   Jeff Bezos       jeff-bezos      114.0  59.0          6   \n4                Larry Ellison    larry-ellison      107.0  78.0          8   \n5               Warren Buffett   warren-buffett      106.0  92.0         10   \n\n            country              source               industry   Age  \\\nrank                                                                   \n1            France                LVMH       Fashion & Retail  74.0   \n2     United States       Tesla, SpaceX             Automotive  52.0   \n3     United States              Amazon             Technology  59.0   \n4     United States              Oracle             Technology  79.0   \n5     United States  Berkshire Hathaway  Finance & Investments  92.0   \n\n                   Source of Wealth  ...           Residence    Citizenship  \\\nrank                                 ...                                      \n1                              LVMH  ...       Paris, France         France   \n2          Tesla, SpaceX, Self Made  ...       Austin, Texas  United States   \n3                 Amazon, Self Made  ...  Medina, Washington  United States   \n4                 Oracle, Self Made  ...       Lanai, Hawaii  United States   \n5     Berkshire Hathaway, Self Made  ...     Omaha, Nebraska  United States   \n\n          Marital Status Children  \\\nrank                                \n1                Married      5.0   \n2                 Single     10.0   \n3                Engaged      4.0   \n4        In Relationship      4.0   \n5     Widowed, Remarried      3.0   \n\n                                              Education  Bachelor Master  \\\nrank                                                                       \n1     Bachelor of Arts/Science, Ecole Polytechnique ...       1.0    0.0   \n2     Bachelor of Arts/Science, University of Pennsy...       1.0    0.0   \n3        Bachelor of Arts/Science, Princeton University       1.0    0.0   \n4     Drop Out, University of Chicago; Drop Out, Uni...       0.0    0.0   \n5     Master of Science, Columbia University; Bachel...       1.0    1.0   \n\n      Doctorate  Drop Out  Self Made  \nrank                                  \n1           0.0       0.0          0  \n2           0.0       0.0          1  \n3           0.0       0.0          1  \n4           0.0       1.0          1  \n5           0.0       0.0          1  \n\n[5 rows x 22 columns]",
      "text/html": "<div>\n<style scoped>\n    .dataframe tbody tr th:only-of-type {\n        vertical-align: middle;\n    }\n\n    .dataframe tbody tr th {\n        vertical-align: top;\n    }\n\n    .dataframe thead th {\n        text-align: right;\n    }\n</style>\n<table border=\"1\" class=\"dataframe\">\n  <thead>\n    <tr style=\"text-align: right;\">\n      <th></th>\n      <th>name</th>\n      <th>forbes_id</th>\n      <th>net_worth</th>\n      <th>age</th>\n      <th>age_range</th>\n      <th>country</th>\n      <th>source</th>\n      <th>industry</th>\n      <th>Age</th>\n      <th>Source of Wealth</th>\n      <th>...</th>\n      <th>Residence</th>\n      <th>Citizenship</th>\n      <th>Marital Status</th>\n      <th>Children</th>\n      <th>Education</th>\n      <th>Bachelor</th>\n      <th>Master</th>\n      <th>Doctorate</th>\n      <th>Drop Out</th>\n      <th>Self Made</th>\n    </tr>\n    <tr>\n      <th>rank</th>\n      <th></th>\n      <th></th>\n      <th></th>\n      <th></th>\n      <th></th>\n      <th></th>\n      <th></th>\n      <th></th>\n      <th></th>\n      <th></th>\n      <th></th>\n      <th></th>\n      <th></th>\n      <th></th>\n      <th></th>\n      <th></th>\n      <th></th>\n      <th></th>\n      <th></th>\n      <th></th>\n      <th></th>\n    </tr>\n  </thead>\n  <tbody>\n    <tr>\n      <th>1</th>\n      <td>Bernard Arnault &amp; family</td>\n      <td>bernard-arnault</td>\n      <td>211.0</td>\n      <td>74.0</td>\n      <td>8</td>\n      <td>France</td>\n      <td>LVMH</td>\n      <td>Fashion &amp; Retail</td>\n      <td>74.0</td>\n      <td>LVMH</td>\n      <td>...</td>\n      <td>Paris, France</td>\n      <td>France</td>\n      <td>Married</td>\n      <td>5.0</td>\n      <td>Bachelor of Arts/Science, Ecole Polytechnique ...</td>\n      <td>1.0</td>\n      <td>0.0</td>\n      <td>0.0</td>\n      <td>0.0</td>\n      <td>0</td>\n    </tr>\n    <tr>\n      <th>2</th>\n      <td>Elon Musk</td>\n      <td>elon-musk</td>\n      <td>180.0</td>\n      <td>51.0</td>\n      <td>6</td>\n      <td>United States</td>\n      <td>Tesla, SpaceX</td>\n      <td>Automotive</td>\n      <td>52.0</td>\n      <td>Tesla, SpaceX, Self Made</td>\n      <td>...</td>\n      <td>Austin, Texas</td>\n      <td>United States</td>\n      <td>Single</td>\n      <td>10.0</td>\n      <td>Bachelor of Arts/Science, University of Pennsy...</td>\n      <td>1.0</td>\n      <td>0.0</td>\n      <td>0.0</td>\n      <td>0.0</td>\n      <td>1</td>\n    </tr>\n    <tr>\n      <th>3</th>\n      <td>Jeff Bezos</td>\n      <td>jeff-bezos</td>\n      <td>114.0</td>\n      <td>59.0</td>\n      <td>6</td>\n      <td>United States</td>\n      <td>Amazon</td>\n      <td>Technology</td>\n      <td>59.0</td>\n      <td>Amazon, Self Made</td>\n      <td>...</td>\n      <td>Medina, Washington</td>\n      <td>United States</td>\n      <td>Engaged</td>\n      <td>4.0</td>\n      <td>Bachelor of Arts/Science, Princeton University</td>\n      <td>1.0</td>\n      <td>0.0</td>\n      <td>0.0</td>\n      <td>0.0</td>\n      <td>1</td>\n    </tr>\n    <tr>\n      <th>4</th>\n      <td>Larry Ellison</td>\n      <td>larry-ellison</td>\n      <td>107.0</td>\n      <td>78.0</td>\n      <td>8</td>\n      <td>United States</td>\n      <td>Oracle</td>\n      <td>Technology</td>\n      <td>79.0</td>\n      <td>Oracle, Self Made</td>\n      <td>...</td>\n      <td>Lanai, Hawaii</td>\n      <td>United States</td>\n      <td>In Relationship</td>\n      <td>4.0</td>\n      <td>Drop Out, University of Chicago; Drop Out, Uni...</td>\n      <td>0.0</td>\n      <td>0.0</td>\n      <td>0.0</td>\n      <td>1.0</td>\n      <td>1</td>\n    </tr>\n    <tr>\n      <th>5</th>\n      <td>Warren Buffett</td>\n      <td>warren-buffett</td>\n      <td>106.0</td>\n      <td>92.0</td>\n      <td>10</td>\n      <td>United States</td>\n      <td>Berkshire Hathaway</td>\n      <td>Finance &amp; Investments</td>\n      <td>92.0</td>\n      <td>Berkshire Hathaway, Self Made</td>\n      <td>...</td>\n      <td>Omaha, Nebraska</td>\n      <td>United States</td>\n      <td>Widowed, Remarried</td>\n      <td>3.0</td>\n      <td>Master of Science, Columbia University; Bachel...</td>\n      <td>1.0</td>\n      <td>1.0</td>\n      <td>0.0</td>\n      <td>0.0</td>\n      <td>1</td>\n    </tr>\n  </tbody>\n</table>\n<p>5 rows × 22 columns</p>\n</div>"
     },
     "execution_count": 5,
     "metadata": {},
     "output_type": "execute_result"
    }
   ],
   "source": [
    "# Preview data\n",
    "\n",
    "df.head()"
   ]
  },
  {
   "cell_type": "markdown",
   "source": [
    "## How many children do the wealthy have?"
   ],
   "metadata": {
    "collapsed": false
   },
   "id": "d6b4c4b98221e968"
  },
  {
   "cell_type": "code",
   "execution_count": 6,
   "outputs": [
    {
     "data": {
      "text/plain": "<Figure size 1000x600 with 1 Axes>",
      "image/png": "[encoded data removed]"
     },
     "metadata": {},
     "output_type": "display_data"
    }
   ],
   "source": [
    "# Children and Net Worth\n",
    "\n",
    "# set style\n",
    "sns.set(style = \"whitegrid\")\n",
    "\n",
    "# set figure size\n",
    "plt.figure(figsize=(10,6))\n",
    "\n",
    "# create bar plot\n",
    "ax = sns.barplot(x= 'Children', y = 'net_worth', data = df, palette = \"viridis\", errorbar= None)\n",
    "plt.title('Children and Net Worth', fontsize = 16, fontweight = 'bold')\n",
    "plt.xlabel('Children')\n",
    "plt.ylabel('Net Worth (in trillions)')\n",
    "\n",
    "# rotate x axis labels so it is easier to read\n",
    "plt.xticks(rotation = 45)\n",
    "\n",
    "# adjust y axis scale\n",
    "plt.ylim(0, 30)\n",
    "\n",
    "# add count numbers on each bar\n",
    "for bar in ax.patches:\n",
    "    ax.annotate(format(bar.get_height(), '.0f'),\n",
    "                (bar.get_x() + bar.get_width() / 2, bar.get_height()),\n",
    "                ha='center', va='bottom')\n",
    "# display results\n",
    "plt.show()"
   ],
   "metadata": {
    "collapsed": false,
    "ExecuteTime": {
     "end_time": "2023-11-03T02:30:17.067578Z",
     "start_time": "2023-11-03T02:30:16.731106Z"
    }
   },
   "id": "5d0012ff"
  },
  {
   "cell_type": "markdown",
   "source": [
    "## How many billions do most billionaires have?"
   ],
   "metadata": {
    "collapsed": false
   },
   "id": "50b41a82c301281"
  },
  {
   "cell_type": "code",
   "execution_count": 7,
   "outputs": [
    {
     "data": {
      "text/plain": "<Figure size 640x480 with 1 Axes>",
      "image/png": "[encoded data removed]"
     },
     "metadata": {},
     "output_type": "display_data"
    }
   ],
   "source": [
    "# Distribution of Billionaires\n",
    "\n",
    "num_bins = 20\n",
    "# Define range for x-axis\n",
    "x_range = (0,20)\n",
    "\n",
    "# Create the histogram \n",
    "# KDE refers to the kernel density estimate and is the line that is the overlay on the histogram\n",
    "sns.histplot(df['net_worth'], kde=True)\n",
    "plt.xlabel('Net Worth')\n",
    "plt.ylabel('Frequency (in billions)')\n",
    "plt.title('Distribution of Net Worth with KDE')\n",
    "\n",
    "plt.xlim(x_range)\n",
    "plt.show()\n",
    "\n",
    "# NET WORTH IS IN BILLIONS"
   ],
   "metadata": {
    "collapsed": false,
    "ExecuteTime": {
     "end_time": "2023-11-03T02:30:19.335713Z",
     "start_time": "2023-11-03T02:30:18.361511Z"
    }
   },
   "id": "87c04d55"
  },
  {
   "cell_type": "markdown",
   "source": [
    "#### Clearly, the vast majority of billionaires have less than 5 billion dollars."
   ],
   "metadata": {
    "collapsed": false
   },
   "id": "f17d522f6efd9467"
  },
  {
   "cell_type": "markdown",
   "source": [
    "# Which industries produce the most billionaires?"
   ],
   "metadata": {
    "collapsed": false
   },
   "id": "c87ae5e5bc865342"
  },
  {
   "cell_type": "code",
   "execution_count": 133,
   "outputs": [
    {
     "name": "stdout",
     "output_type": "stream",
     "text": [
      "                            Billionaire Count\n",
      "industry                                     \n",
      "Automotive                                 73\n",
      "Construction & Engineering                 45\n",
      "Diversified                               187\n",
      "Energy                                    100\n",
      "Fashion & Retail                          266\n",
      "Finance & Investments                     372\n",
      "Food & Beverage                           212\n",
      "Gambling & Casinos                         25\n",
      "Healthcare                                201\n",
      "Logistics                                  40\n",
      "Manufacturing                             324\n",
      "Media & Entertainment                      91\n",
      "Metals & Mining                            74\n",
      "Real Estate                               193\n",
      "Service                                    53\n",
      "Sports                                     39\n",
      "Technology                                314\n",
      "Telecom                                    31\n"
     ]
    }
   ],
   "source": [
    "# Group by industry and country and count the billionaires in each combination\n",
    "industry_country_counts = df.groupby(['industry']).size().reset_index(name='Billionaire Count')\n",
    "\n",
    "# Find the country with the most billionaires in each industry\n",
    "max_billionaires_per_industry = industry_country_counts.groupby('industry').max()\n",
    "\n",
    "\n",
    "# Display the result\n",
    "print(max_billionaires_per_industry)"
   ],
   "metadata": {
    "collapsed": false,
    "ExecuteTime": {
     "end_time": "2023-11-05T02:34:06.852575Z",
     "start_time": "2023-11-05T02:34:06.823165Z"
    }
   },
   "id": "c884d03dd1d64b06"
  },
  {
   "cell_type": "code",
   "execution_count": 8,
   "outputs": [
    {
     "name": "stdout",
     "output_type": "stream",
     "text": [
      "                              Citizenship  Billionaire Count\n",
      "industry                                                    \n",
      "Automotive                        Vietnam                 18\n",
      "Construction & Engineering  United States                  5\n",
      "Diversified                       Vietnam                 21\n",
      "Energy                      United States                 34\n",
      "Fashion & Retail            United States                 57\n",
      "Finance & Investments             Vietnam                183\n",
      "Food & Beverage                   Vietnam                 71\n",
      "Gambling & Casinos          United States                  6\n",
      "Healthcare                  United States                 65\n",
      "Logistics                   United States                  8\n",
      "Manufacturing                     Vietnam                138\n",
      "Media & Entertainment       United States                 38\n",
      "Metals & Mining             United States                 18\n",
      "Real Estate                 United States                 49\n",
      "Service                     United States                 19\n",
      "Sports                      United States                 33\n",
      "Technology                  United States                127\n",
      "Telecom                          Zimbabwe                  5\n"
     ]
    }
   ],
   "source": [
    "# Group by industry and country and count the billionaires in each combination\n",
    "#industry_country_counts = df.groupby(['industry', 'Citizenship']).size().reset_index(name='Billionaire Count')\n",
    "\n",
    "# Find the country with the most billionaires in each industry\n",
    "#max_billionaires_per_industry = industry_country_counts.groupby('industry').max()\n",
    "\n",
    "\n",
    "# Display the result\n",
    "#print(max_billionaires_per_industry)\n"
   ],
   "metadata": {
    "collapsed": false,
    "ExecuteTime": {
     "start_time": "2023-11-03T02:30:21.674864Z"
    }
   },
   "id": "24d500f8"
  },
  {
   "cell_type": "markdown",
   "source": [
    "# What does the martial status of the wealthy look like?"
   ],
   "metadata": {
    "collapsed": false
   },
   "id": "660e388896c234d0"
  },
  {
   "cell_type": "code",
   "execution_count": 9,
   "outputs": [
    {
     "name": "stdout",
     "output_type": "stream",
     "text": [
      "Marital Status\n",
      "Married               1711\n",
      "Divorced               140\n",
      "Widowed                121\n",
      "Single                  76\n",
      "In Relationship         18\n",
      "Widowed, Remarried      11\n",
      "Separated               10\n",
      "Engaged                  2\n",
      "Name: count, dtype: int64\n"
     ]
    }
   ],
   "source": [
    "# Count how many billionaires in each category of relationship status\n",
    "relationship_counts = df['Marital Status'].value_counts()\n",
    "\n",
    "#display result\n",
    "print(relationship_counts)"
   ],
   "metadata": {
    "collapsed": false,
    "ExecuteTime": {
     "end_time": "2023-11-03T02:30:24.041667Z",
     "start_time": "2023-11-03T02:30:24.033190Z"
    }
   },
   "id": "601b6193"
  },
  {
   "cell_type": "code",
   "execution_count": 10,
   "id": "8cb84cd3",
   "metadata": {
    "ExecuteTime": {
     "end_time": "2023-11-03T02:30:25.562646Z",
     "start_time": "2023-11-03T02:30:24.887572Z"
    }
   },
   "outputs": [
    {
     "data": {
      "text/plain": "<Figure size 1000x600 with 1 Axes>",
      "image/png": "[encoded data removed]"
     },
     "metadata": {},
     "output_type": "display_data"
    }
   ],
   "source": [
    "# group data in Marital Status column and count\n",
    "relationship_counts = df['Marital Status'].value_counts()\n",
    "\n",
    "# create bar plot\n",
    "plt.figure(figsize= (10, 6))\n",
    "ax = sns.barplot(x = relationship_counts.index, y = relationship_counts.values, palette = \"viridis\")\n",
    "ax.set_yscale(\"log\")\n",
    "plt.title('Distribution of Relationship Status', fontsize = 18, fontweight = 'bold')\n",
    "plt.xlabel('Relationship Status', fontsize = 16, fontweight = 'bold')\n",
    "plt.ylabel('Number of Billionaires', fontsize = 16, fontweight = 'bold')\n",
    "\n",
    "# rotate x axis labels\n",
    "plt.xticks(rotation = 45)\n",
    "\n",
    "# display actual numbers on the bars\n",
    "for p in ax.patches:\n",
    "    ax.annotate(format(p.get_height(), '.0f'), (p.get_x() + p.get_width() / 2., p.get_height()),\n",
    "                ha='center', va='center', fontsize=10, color='black', xytext=(0, 5),\n",
    "                textcoords='offset points')\n",
    "\n",
    "# display result\n",
    "plt.show()"
   ]
  },
  {
   "cell_type": "markdown",
   "source": [
    "# Sorted list of billionaires and Formatted Report"
   ],
   "metadata": {
    "collapsed": false
   },
   "id": "8f65d33f44d25bfd"
  },
  {
   "cell_type": "code",
   "execution_count": 11,
   "outputs": [
    {
     "name": "stdout",
     "output_type": "stream",
     "text": [
      "                           name          forbes_id  net_worth   age  \\\n",
      "rank                                                                  \n",
      "1      Bernard Arnault & family    bernard-arnault      211.0  74.0   \n",
      "2                     Elon Musk          elon-musk      180.0  51.0   \n",
      "3                    Jeff Bezos         jeff-bezos      114.0  59.0   \n",
      "4                 Larry Ellison      larry-ellison      107.0  78.0   \n",
      "5                Warren Buffett     warren-buffett      106.0  92.0   \n",
      "6                    Bill Gates         bill-gates      104.0  67.0   \n",
      "7             Michael Bloomberg  michael-bloomberg       94.5  81.0   \n",
      "8     Carlos Slim Helu & family   carlos-slim-helu       93.0  83.0   \n",
      "9                 Mukesh Ambani      mukesh-ambani       83.4  65.0   \n",
      "10                Steve Ballmer      steve-ballmer       80.7  67.0   \n",
      "\n",
      "      age_range        country              source               industry  \\\n",
      "rank                                                                        \n",
      "1             8         France                LVMH       Fashion & Retail   \n",
      "2             6  United States       Tesla, SpaceX             Automotive   \n",
      "3             6  United States              Amazon             Technology   \n",
      "4             8  United States              Oracle             Technology   \n",
      "5            10  United States  Berkshire Hathaway  Finance & Investments   \n",
      "6             7  United States           Microsoft             Technology   \n",
      "7             9  United States        Bloomberg LP  Media & Entertainment   \n",
      "8             9         Mexico             Telecom                Telecom   \n",
      "9             7          India         Diversified            Diversified   \n",
      "10            7  United States           Microsoft             Technology   \n",
      "\n",
      "       Age               Source of Wealth  ...                Residence  \\\n",
      "rank                                       ...                            \n",
      "1     74.0                           LVMH  ...            Paris, France   \n",
      "2     52.0       Tesla, SpaceX, Self Made  ...            Austin, Texas   \n",
      "3     59.0              Amazon, Self Made  ...       Medina, Washington   \n",
      "4     79.0              Oracle, Self Made  ...            Lanai, Hawaii   \n",
      "5     92.0  Berkshire Hathaway, Self Made  ...          Omaha, Nebraska   \n",
      "6     67.0           Microsoft, Self Made  ...       Medina, Washington   \n",
      "7     81.0        Bloomberg LP, Self Made  ...       New York, New York   \n",
      "8     83.0             Telecom, Self Made  ...      Mexico City, Mexico   \n",
      "9     66.0                    Diversified  ...            Mumbai, India   \n",
      "10    67.0           Microsoft, Self Made  ...  Hunts Point, Washington   \n",
      "\n",
      "        Citizenship      Marital Status Children  \\\n",
      "rank                                               \n",
      "1            France             Married      5.0   \n",
      "2     United States              Single     10.0   \n",
      "3     United States             Engaged      4.0   \n",
      "4     United States     In Relationship      4.0   \n",
      "5     United States  Widowed, Remarried      3.0   \n",
      "6     United States            Divorced      3.0   \n",
      "7     United States     In Relationship      2.0   \n",
      "8            Mexico             Widowed      6.0   \n",
      "9             India             Married      3.0   \n",
      "10    United States             Married      3.0   \n",
      "\n",
      "                                              Education  Bachelor Master  \\\n",
      "rank                                                                       \n",
      "1     Bachelor of Arts/Science, Ecole Polytechnique ...       1.0    0.0   \n",
      "2     Bachelor of Arts/Science, University of Pennsy...       1.0    0.0   \n",
      "3        Bachelor of Arts/Science, Princeton University       1.0    0.0   \n",
      "4     Drop Out, University of Chicago; Drop Out, Uni...       0.0    0.0   \n",
      "5     Master of Science, Columbia University; Bachel...       1.0    1.0   \n",
      "6                          Drop Out, Harvard University       0.0    0.0   \n",
      "7     Master of Business Administration, Harvard Bus...       1.0    1.0   \n",
      "8     Bachelor of Arts/Science, Universidad Nacional...       1.0    0.0   \n",
      "9     Drop Out, Stanford University; Bachelor of Sci...       1.0    0.0   \n",
      "10    Bachelor of Arts/Science, Harvard University; ...       1.0    0.0   \n",
      "\n",
      "      Doctorate  Drop Out  Self Made  \n",
      "rank                                  \n",
      "1           0.0       0.0          0  \n",
      "2           0.0       0.0          1  \n",
      "3           0.0       0.0          1  \n",
      "4           0.0       1.0          1  \n",
      "5           0.0       0.0          1  \n",
      "6           0.0       1.0          1  \n",
      "7           0.0       0.0          1  \n",
      "8           0.0       0.0          1  \n",
      "9           0.0       1.0          0  \n",
      "10          0.0       1.0          1  \n",
      "\n",
      "[10 rows x 22 columns]\n"
     ]
    }
   ],
   "source": [
    "top_10_billionaires = df.sort_values(by= 'net_worth', ascending = False).head(10)\n",
    "\n",
    "print(top_10_billionaires)"
   ],
   "metadata": {
    "collapsed": false,
    "ExecuteTime": {
     "end_time": "2023-11-03T02:30:27.503711Z",
     "start_time": "2023-11-03T02:30:27.482164Z"
    }
   },
   "id": "56dda107"
  },
  {
   "cell_type": "code",
   "execution_count": 12,
   "id": "c5ce9c19",
   "metadata": {
    "ExecuteTime": {
     "end_time": "2023-11-03T02:30:28.348369Z",
     "start_time": "2023-11-03T02:30:28.338418Z"
    }
   },
   "outputs": [
    {
     "name": "stdout",
     "output_type": "stream",
     "text": [
      "Name: Bernard Arnault & family\n",
      "Net Worth: 211.0 billion\n",
      "Age: 74.0\n",
      "Country: France\n",
      "Source of Wealth: LVMH\n",
      "Industry: Fashion & Retail\n",
      "Marital Status: Married\n",
      "Number of Children: 5.0\n",
      "Education: Bachelor of Arts/Science, Ecole Polytechnique de Paris\n",
      "--------------------------------------------------\n",
      "Name: Elon Musk\n",
      "Net Worth: 180.0 billion\n",
      "Age: 51.0\n",
      "Country: United States\n",
      "Source of Wealth: Tesla, SpaceX\n",
      "Industry: Automotive\n",
      "Marital Status: Single\n",
      "Number of Children: 10.0\n",
      "Education: Bachelor of Arts/Science, University of Pennsylvania\n",
      "--------------------------------------------------\n",
      "Name: Jeff Bezos\n",
      "Net Worth: 114.0 billion\n",
      "Age: 59.0\n",
      "Country: United States\n",
      "Source of Wealth: Amazon\n",
      "Industry: Technology\n",
      "Marital Status: Engaged\n",
      "Number of Children: 4.0\n",
      "Education: Bachelor of Arts/Science, Princeton University\n",
      "--------------------------------------------------\n",
      "Name: Larry Ellison\n",
      "Net Worth: 107.0 billion\n",
      "Age: 78.0\n",
      "Country: United States\n",
      "Source of Wealth: Oracle\n",
      "Industry: Technology\n",
      "Marital Status: In Relationship\n",
      "Number of Children: 4.0\n",
      "Education: Drop Out, University of Chicago; Drop Out, University of Illinois, Urbana-Champaign\n",
      "--------------------------------------------------\n",
      "Name: Warren Buffett\n",
      "Net Worth: 106.0 billion\n",
      "Age: 92.0\n",
      "Country: United States\n",
      "Source of Wealth: Berkshire Hathaway\n",
      "Industry: Finance & Investments\n",
      "Marital Status: Widowed, Remarried\n",
      "Number of Children: 3.0\n",
      "Education: Master of Science, Columbia University; Bachelor of Arts/Science, University of Nebraska Lincoln\n",
      "--------------------------------------------------\n",
      "Name: Bill Gates\n",
      "Net Worth: 104.0 billion\n",
      "Age: 67.0\n",
      "Country: United States\n",
      "Source of Wealth: Microsoft\n",
      "Industry: Technology\n",
      "Marital Status: Divorced\n",
      "Number of Children: 3.0\n",
      "Education: Drop Out, Harvard University\n",
      "--------------------------------------------------\n",
      "Name: Michael Bloomberg\n",
      "Net Worth: 94.5 billion\n",
      "Age: 81.0\n",
      "Country: United States\n",
      "Source of Wealth: Bloomberg LP\n",
      "Industry: Media & Entertainment\n",
      "Marital Status: In Relationship\n",
      "Number of Children: 2.0\n",
      "Education: Master of Business Administration, Harvard Business School; Bachelor of Arts/Science, Johns Hopkins University\n",
      "--------------------------------------------------\n",
      "Name: Carlos Slim Helu & family\n",
      "Net Worth: 93.0 billion\n",
      "Age: 83.0\n",
      "Country: Mexico\n",
      "Source of Wealth: Telecom\n",
      "Industry: Telecom\n",
      "Marital Status: Widowed\n",
      "Number of Children: 6.0\n",
      "Education: Bachelor of Arts/Science, Universidad Nacional Autonoma de Mexico\n",
      "--------------------------------------------------\n",
      "Name: Mukesh Ambani\n",
      "Net Worth: 83.4 billion\n",
      "Age: 65.0\n",
      "Country: India\n",
      "Source of Wealth: Diversified\n",
      "Industry: Diversified\n",
      "Marital Status: Married\n",
      "Number of Children: 3.0\n",
      "Education: Drop Out, Stanford University; Bachelor of Science in Engineering, University of Mumbai\n",
      "--------------------------------------------------\n",
      "Name: Steve Ballmer\n",
      "Net Worth: 80.7 billion\n",
      "Age: 67.0\n",
      "Country: United States\n",
      "Source of Wealth: Microsoft\n",
      "Industry: Technology\n",
      "Marital Status: Married\n",
      "Number of Children: 3.0\n",
      "Education: Bachelor of Arts/Science, Harvard University; Drop Out, Stanford University\n",
      "--------------------------------------------------\n"
     ]
    }
   ],
   "source": [
    "top_10_billionaires = df.sort_values(by= 'net_worth', ascending = False).head(10)\n",
    "\n",
    "for index, row in top_10_billionaires.iterrows():\n",
    "    print(f\"Name: {row['name']}\")\n",
    "    print(f\"Net Worth: {row['net_worth']} billion\")\n",
    "    print(f\"Age: {row['age']}\")\n",
    "    print(f\"Country: {row['country']}\")\n",
    "    print(f\"Source of Wealth: {row['source']}\")\n",
    "    print(f\"Industry: {row['industry']}\")\n",
    "    print(f\"Marital Status: {row['Marital Status']}\")\n",
    "    print(f\"Number of Children: {row['Children']}\")\n",
    "    print(f\"Education: {row['Education']}\")\n",
    "    print('-' * 50)    "
   ]
  },
  {
   "cell_type": "markdown",
   "source": [
    "# Is the \"college-dropout\" trope true?"
   ],
   "metadata": {
    "collapsed": false
   },
   "id": "336dd01dcb95291f"
  },
  {
   "cell_type": "code",
   "execution_count": 13,
   "outputs": [
    {
     "data": {
      "text/plain": "<Figure size 1000x600 with 1 Axes>",
      "image/png": "[encoded data removed]"
     },
     "metadata": {},
     "output_type": "display_data"
    }
   ],
   "source": [
    "# Education\n",
    "\n",
    "# Calculate the counts for each education level\n",
    "education_counts = df[['Bachelor', 'Master', 'Doctorate', 'Drop Out']].sum()\n",
    "\n",
    "# Create a bar plot\n",
    "plt.figure(figsize=(10, 6))\n",
    "sns.barplot(x=education_counts.index, y=education_counts.values, palette = \"viridis\")\n",
    "plt.title('Billionaires by Education Level', fontsize=16, fontweight='bold')\n",
    "plt.xlabel('Education Level', fontsize = 16, fontweight = \"bold\")\n",
    "plt.ylabel('Number of Billionaires', fontsize = 16, fontweight = \"bold\")\n",
    "\n",
    "# Display the counts on top of the bars\n",
    "for i, count in enumerate(education_counts.values):\n",
    "    plt.text(i, count, str(count), ha='center', va='bottom')\n",
    "\n",
    "# Rotate x-axis labels for better readability\n",
    "plt.xticks(rotation=0)\n",
    "\n",
    "# Show the plot\n",
    "plt.show()"
   ],
   "metadata": {
    "collapsed": false,
    "ExecuteTime": {
     "end_time": "2023-11-03T02:30:30.062538Z",
     "start_time": "2023-11-03T02:30:29.870157Z"
    }
   },
   "id": "a4e34581"
  },
  {
   "cell_type": "markdown",
   "source": [
    "# Pie Chart of Countries"
   ],
   "metadata": {
    "collapsed": false
   },
   "id": "b56c3c5eb9d3c568"
  },
  {
   "cell_type": "code",
   "execution_count": 161,
   "outputs": [
    {
     "data": {
      "application/vnd.plotly.v1+json": {
       "data": [
        {
         "domain": {
          "x": [
           0.0,
           1.0
          ],
          "y": [
           0.0,
           1.0
          ]
         },
         "hovertemplate": "country=%{label}<br>net_worth=%{value}<extra></extra>",
         "labels": [
          "France",
          "United States",
          "United States",
          "United States",
          "United States",
          "United States",
          "United States",
          "Mexico",
          "India",
          "United States"
         ],
         "legendgroup": "",
         "name": "",
         "showlegend": true,
         "values": [
          211.0,
          180.0,
          114.0,
          107.0,
          106.0,
          104.0,
          94.5,
          93.0,
          83.4,
          80.7
         ],
         "type": "pie"
        }
       ],
       "layout": {
        "template": {
         "data": {
          "histogram2dcontour": [
           {
            "type": "histogram2dcontour",
            "colorbar": {
             "outlinewidth": 0,
             "ticks": ""
            },
            "colorscale": [
             [
              0.0,
              "#0d0887"
             ],
             [
              0.1111111111111111,
              "#46039f"
             ],
             [
              0.2222222222222222,
              "#7201a8"
             ],
             [
              0.3333333333333333,
              "#9c179e"
             ],
             [
              0.4444444444444444,
              "#bd3786"
             ],
             [
              0.5555555555555556,
              "#d8576b"
             ],
             [
              0.6666666666666666,
              "#ed7953"
             ],
             [
              0.7777777777777778,
              "#fb9f3a"
             ],
             [
              0.8888888888888888,
              "#fdca26"
             ],
             [
              1.0,
              "#f0f921"
             ]
            ]
           }
          ],
          "choropleth": [
           {
            "type": "choropleth",
            "colorbar": {
             "outlinewidth": 0,
             "ticks": ""
            }
           }
          ],
          "histogram2d": [
           {
            "type": "histogram2d",
            "colorbar": {
             "outlinewidth": 0,
             "ticks": ""
            },
            "colorscale": [
             [
              0.0,
              "#0d0887"
             ],
             [
              0.1111111111111111,
              "#46039f"
             ],
             [
              0.2222222222222222,
              "#7201a8"
             ],
             [
              0.3333333333333333,
              "#9c179e"
             ],
             [
              0.4444444444444444,
              "#bd3786"
             ],
             [
              0.5555555555555556,
              "#d8576b"
             ],
             [
              0.6666666666666666,
              "#ed7953"
             ],
             [
              0.7777777777777778,
              "#fb9f3a"
             ],
             [
              0.8888888888888888,
              "#fdca26"
             ],
             [
              1.0,
              "#f0f921"
             ]
            ]
           }
          ],
          "heatmap": [
           {
            "type": "heatmap",
            "colorbar": {
             "outlinewidth": 0,
             "ticks": ""
            },
            "colorscale": [
             [
              0.0,
              "#0d0887"
             ],
             [
              0.1111111111111111,
              "#46039f"
             ],
             [
              0.2222222222222222,
              "#7201a8"
             ],
             [
              0.3333333333333333,
              "#9c179e"
             ],
             [
              0.4444444444444444,
              "#bd3786"
             ],
             [
              0.5555555555555556,
              "#d8576b"
             ],
             [
              0.6666666666666666,
              "#ed7953"
             ],
             [
              0.7777777777777778,
              "#fb9f3a"
             ],
             [
              0.8888888888888888,
              "#fdca26"
             ],
             [
              1.0,
              "#f0f921"
             ]
            ]
           }
          ],
          "heatmapgl": [
           {
            "type": "heatmapgl",
            "colorbar": {
             "outlinewidth": 0,
             "ticks": ""
            },
            "colorscale": [
             [
              0.0,
              "#0d0887"
             ],
             [
              0.1111111111111111,
              "#46039f"
             ],
             [
              0.2222222222222222,
              "#7201a8"
             ],
             [
              0.3333333333333333,
              "#9c179e"
             ],
             [
              0.4444444444444444,
              "#bd3786"
             ],
             [
              0.5555555555555556,
              "#d8576b"
             ],
             [
              0.6666666666666666,
              "#ed7953"
             ],
             [
              0.7777777777777778,
              "#fb9f3a"
             ],
             [
              0.8888888888888888,
              "#fdca26"
             ],
             [
              1.0,
              "#f0f921"
             ]
            ]
           }
          ],
          "contourcarpet": [
           {
            "type": "contourcarpet",
            "colorbar": {
             "outlinewidth": 0,
             "ticks": ""
            }
           }
          ],
          "contour": [
           {
            "type": "contour",
            "colorbar": {
             "outlinewidth": 0,
             "ticks": ""
            },
            "colorscale": [
             [
              0.0,
              "#0d0887"
             ],
             [
              0.1111111111111111,
              "#46039f"
             ],
             [
              0.2222222222222222,
              "#7201a8"
             ],
             [
              0.3333333333333333,
              "#9c179e"
             ],
             [
              0.4444444444444444,
              "#bd3786"
             ],
             [
              0.5555555555555556,
              "#d8576b"
             ],
             [
              0.6666666666666666,
              "#ed7953"
             ],
             [
              0.7777777777777778,
              "#fb9f3a"
             ],
             [
              0.8888888888888888,
              "#fdca26"
             ],
             [
              1.0,
              "#f0f921"
             ]
            ]
           }
          ],
          "surface": [
           {
            "type": "surface",
            "colorbar": {
             "outlinewidth": 0,
             "ticks": ""
            },
            "colorscale": [
             [
              0.0,
              "#0d0887"
             ],
             [
              0.1111111111111111,
              "#46039f"
             ],
             [
              0.2222222222222222,
              "#7201a8"
             ],
             [
              0.3333333333333333,
              "#9c179e"
             ],
             [
              0.4444444444444444,
              "#bd3786"
             ],
             [
              0.5555555555555556,
              "#d8576b"
             ],
             [
              0.6666666666666666,
              "#ed7953"
             ],
             [
              0.7777777777777778,
              "#fb9f3a"
             ],
             [
              0.8888888888888888,
              "#fdca26"
             ],
             [
              1.0,
              "#f0f921"
             ]
            ]
           }
          ],
          "mesh3d": [
           {
            "type": "mesh3d",
            "colorbar": {
             "outlinewidth": 0,
             "ticks": ""
            }
           }
          ],
          "scatter": [
           {
            "marker": {
             "line": {
              "color": "#283442"
             }
            },
            "type": "scatter"
           }
          ],
          "parcoords": [
           {
            "type": "parcoords",
            "line": {
             "colorbar": {
              "outlinewidth": 0,
              "ticks": ""
             }
            }
           }
          ],
          "scatterpolargl": [
           {
            "type": "scatterpolargl",
            "marker": {
             "colorbar": {
              "outlinewidth": 0,
              "ticks": ""
             }
            }
           }
          ],
          "bar": [
           {
            "error_x": {
             "color": "#f2f5fa"
            },
            "error_y": {
             "color": "#f2f5fa"
            },
            "marker": {
             "line": {
              "color": "rgb(17,17,17)",
              "width": 0.5
             },
             "pattern": {
              "fillmode": "overlay",
              "size": 10,
              "solidity": 0.2
             }
            },
            "type": "bar"
           }
          ],
          "scattergeo": [
           {
            "type": "scattergeo",
            "marker": {
             "colorbar": {
              "outlinewidth": 0,
              "ticks": ""
             }
            }
           }
          ],
          "scatterpolar": [
           {
            "type": "scatterpolar",
            "marker": {
             "colorbar": {
              "outlinewidth": 0,
              "ticks": ""
             }
            }
           }
          ],
          "histogram": [
           {
            "marker": {
             "pattern": {
              "fillmode": "overlay",
              "size": 10,
              "solidity": 0.2
             }
            },
            "type": "histogram"
           }
          ],
          "scattergl": [
           {
            "marker": {
             "line": {
              "color": "#283442"
             }
            },
            "type": "scattergl"
           }
          ],
          "scatter3d": [
           {
            "type": "scatter3d",
            "line": {
             "colorbar": {
              "outlinewidth": 0,
              "ticks": ""
             }
            },
            "marker": {
             "colorbar": {
              "outlinewidth": 0,
              "ticks": ""
             }
            }
           }
          ],
          "scattermapbox": [
           {
            "type": "scattermapbox",
            "marker": {
             "colorbar": {
              "outlinewidth": 0,
              "ticks": ""
             }
            }
           }
          ],
          "scatterternary": [
           {
            "type": "scatterternary",
            "marker": {
             "colorbar": {
              "outlinewidth": 0,
              "ticks": ""
             }
            }
           }
          ],
          "scattercarpet": [
           {
            "type": "scattercarpet",
            "marker": {
             "colorbar": {
              "outlinewidth": 0,
              "ticks": ""
             }
            }
           }
          ],
          "carpet": [
           {
            "aaxis": {
             "endlinecolor": "#A2B1C6",
             "gridcolor": "#506784",
             "linecolor": "#506784",
             "minorgridcolor": "#506784",
             "startlinecolor": "#A2B1C6"
            },
            "baxis": {
             "endlinecolor": "#A2B1C6",
             "gridcolor": "#506784",
             "linecolor": "#506784",
             "minorgridcolor": "#506784",
             "startlinecolor": "#A2B1C6"
            },
            "type": "carpet"
           }
          ],
          "table": [
           {
            "cells": {
             "fill": {
              "color": "#506784"
             },
             "line": {
              "color": "rgb(17,17,17)"
             }
            },
            "header": {
             "fill": {
              "color": "#2a3f5f"
             },
             "line": {
              "color": "rgb(17,17,17)"
             }
            },
            "type": "table"
           }
          ],
          "barpolar": [
           {
            "marker": {
             "line": {
              "color": "rgb(17,17,17)",
              "width": 0.5
             },
             "pattern": {
              "fillmode": "overlay",
              "size": 10,
              "solidity": 0.2
             }
            },
            "type": "barpolar"
           }
          ],
          "pie": [
           {
            "automargin": true,
            "type": "pie"
           }
          ]
         },
         "layout": {
          "autotypenumbers": "strict",
          "colorway": [
           "#636efa",
           "#EF553B",
           "#00cc96",
           "#ab63fa",
           "#FFA15A",
           "#19d3f3",
           "#FF6692",
           "#B6E880",
           "#FF97FF",
           "#FECB52"
          ],
          "font": {
           "color": "#f2f5fa"
          },
          "hovermode": "closest",
          "hoverlabel": {
           "align": "left"
          },
          "paper_bgcolor": "rgb(17,17,17)",
          "plot_bgcolor": "rgb(17,17,17)",
          "polar": {
           "bgcolor": "rgb(17,17,17)",
           "angularaxis": {
            "gridcolor": "#506784",
            "linecolor": "#506784",
            "ticks": ""
           },
           "radialaxis": {
            "gridcolor": "#506784",
            "linecolor": "#506784",
            "ticks": ""
           }
          },
          "ternary": {
           "bgcolor": "rgb(17,17,17)",
           "aaxis": {
            "gridcolor": "#506784",
            "linecolor": "#506784",
            "ticks": ""
           },
           "baxis": {
            "gridcolor": "#506784",
            "linecolor": "#506784",
            "ticks": ""
           },
           "caxis": {
            "gridcolor": "#506784",
            "linecolor": "#506784",
            "ticks": ""
           }
          },
          "coloraxis": {
           "colorbar": {
            "outlinewidth": 0,
            "ticks": ""
           }
          },
          "colorscale": {
           "sequential": [
            [
             0.0,
             "#0d0887"
            ],
            [
             0.1111111111111111,
             "#46039f"
            ],
            [
             0.2222222222222222,
             "#7201a8"
            ],
            [
             0.3333333333333333,
             "#9c179e"
            ],
            [
             0.4444444444444444,
             "#bd3786"
            ],
            [
             0.5555555555555556,
             "#d8576b"
            ],
            [
             0.6666666666666666,
             "#ed7953"
            ],
            [
             0.7777777777777778,
             "#fb9f3a"
            ],
            [
             0.8888888888888888,
             "#fdca26"
            ],
            [
             1.0,
             "#f0f921"
            ]
           ],
           "sequentialminus": [
            [
             0.0,
             "#0d0887"
            ],
            [
             0.1111111111111111,
             "#46039f"
            ],
            [
             0.2222222222222222,
             "#7201a8"
            ],
            [
             0.3333333333333333,
             "#9c179e"
            ],
            [
             0.4444444444444444,
             "#bd3786"
            ],
            [
             0.5555555555555556,
             "#d8576b"
            ],
            [
             0.6666666666666666,
             "#ed7953"
            ],
            [
             0.7777777777777778,
             "#fb9f3a"
            ],
            [
             0.8888888888888888,
             "#fdca26"
            ],
            [
             1.0,
             "#f0f921"
            ]
           ],
           "diverging": [
            [
             0,
             "#8e0152"
            ],
            [
             0.1,
             "#c51b7d"
            ],
            [
             0.2,
             "#de77ae"
            ],
            [
             0.3,
             "#f1b6da"
            ],
            [
             0.4,
             "#fde0ef"
            ],
            [
             0.5,
             "#f7f7f7"
            ],
            [
             0.6,
             "#e6f5d0"
            ],
            [
             0.7,
             "#b8e186"
            ],
            [
             0.8,
             "#7fbc41"
            ],
            [
             0.9,
             "#4d9221"
            ],
            [
             1,
             "#276419"
            ]
           ]
          },
          "xaxis": {
           "gridcolor": "#283442",
           "linecolor": "#506784",
           "ticks": "",
           "title": {
            "standoff": 15
           },
           "zerolinecolor": "#283442",
           "automargin": true,
           "zerolinewidth": 2
          },
          "yaxis": {
           "gridcolor": "#283442",
           "linecolor": "#506784",
           "ticks": "",
           "title": {
            "standoff": 15
           },
           "zerolinecolor": "#283442",
           "automargin": true,
           "zerolinewidth": 2
          },
          "scene": {
           "xaxis": {
            "backgroundcolor": "rgb(17,17,17)",
            "gridcolor": "#506784",
            "linecolor": "#506784",
            "showbackground": true,
            "ticks": "",
            "zerolinecolor": "#C8D4E3",
            "gridwidth": 2
           },
           "yaxis": {
            "backgroundcolor": "rgb(17,17,17)",
            "gridcolor": "#506784",
            "linecolor": "#506784",
            "showbackground": true,
            "ticks": "",
            "zerolinecolor": "#C8D4E3",
            "gridwidth": 2
           },
           "zaxis": {
            "backgroundcolor": "rgb(17,17,17)",
            "gridcolor": "#506784",
            "linecolor": "#506784",
            "showbackground": true,
            "ticks": "",
            "zerolinecolor": "#C8D4E3",
            "gridwidth": 2
           }
          },
          "shapedefaults": {
           "line": {
            "color": "#f2f5fa"
           }
          },
          "annotationdefaults": {
           "arrowcolor": "#f2f5fa",
           "arrowhead": 0,
           "arrowwidth": 1
          },
          "geo": {
           "bgcolor": "rgb(17,17,17)",
           "landcolor": "rgb(17,17,17)",
           "subunitcolor": "#506784",
           "showland": true,
           "showlakes": true,
           "lakecolor": "rgb(17,17,17)"
          },
          "title": {
           "x": 0.05
          },
          "updatemenudefaults": {
           "bgcolor": "#506784",
           "borderwidth": 0
          },
          "sliderdefaults": {
           "bgcolor": "#C8D4E3",
           "borderwidth": 1,
           "bordercolor": "rgb(17,17,17)",
           "tickwidth": 0
          },
          "mapbox": {
           "style": "dark"
          }
         }
        },
        "legend": {
         "tracegroupgap": 0
        },
        "title": {
         "text": "Net Worth in relation to Countries"
        }
       },
       "config": {
        "plotlyServerURL": "https://plot.ly"
       }
      },
      "text/html": "<div>                            <div id=\"b89cde66-dd77-4652-8cef-b580e45aaf29\" class=\"plotly-graph-div\" style=\"height:525px; width:100%;\"></div>            <script type=\"text/javascript\">                require([\"plotly\"], function(Plotly) {                    window.PLOTLYENV=window.PLOTLYENV || {};                                    if (document.getElementById(\"b89cde66-dd77-4652-8cef-b580e45aaf29\")) {                    Plotly.newPlot(                        \"b89cde66-dd77-4652-8cef-b580e45aaf29\",                        [{\"domain\":{\"x\":[0.0,1.0],\"y\":[0.0,1.0]},\"hovertemplate\":\"country=%{label}\\u003cbr\\u003enet_worth=%{value}\\u003cextra\\u003e\\u003c\\u002fextra\\u003e\",\"labels\":[\"France\",\"United States\",\"United States\",\"United States\",\"United States\",\"United States\",\"United States\",\"Mexico\",\"India\",\"United States\"],\"legendgroup\":\"\",\"name\":\"\",\"showlegend\":true,\"values\":[211.0,180.0,114.0,107.0,106.0,104.0,94.5,93.0,83.4,80.7],\"type\":\"pie\"}],                        {\"template\":{\"data\":{\"histogram2dcontour\":[{\"type\":\"histogram2dcontour\",\"colorbar\":{\"outlinewidth\":0,\"ticks\":\"\"},\"colorscale\":[[0.0,\"#0d0887\"],[0.1111111111111111,\"#46039f\"],[0.2222222222222222,\"#7201a8\"],[0.3333333333333333,\"#9c179e\"],[0.4444444444444444,\"#bd3786\"],[0.5555555555555556,\"#d8576b\"],[0.6666666666666666,\"#ed7953\"],[0.7777777777777778,\"#fb9f3a\"],[0.8888888888888888,\"#fdca26\"],[1.0,\"#f0f921\"]]}],\"choropleth\":[{\"type\":\"choropleth\",\"colorbar\":{\"outlinewidth\":0,\"ticks\":\"\"}}],\"histogram2d\":[{\"type\":\"histogram2d\",\"colorbar\":{\"outlinewidth\":0,\"ticks\":\"\"},\"colorscale\":[[0.0,\"#0d0887\"],[0.1111111111111111,\"#46039f\"],[0.2222222222222222,\"#7201a8\"],[0.3333333333333333,\"#9c179e\"],[0.4444444444444444,\"#bd3786\"],[0.5555555555555556,\"#d8576b\"],[0.6666666666666666,\"#ed7953\"],[0.7777777777777778,\"#fb9f3a\"],[0.8888888888888888,\"#fdca26\"],[1.0,\"#f0f921\"]]}],\"heatmap\":[{\"type\":\"heatmap\",\"colorbar\":{\"outlinewidth\":0,\"ticks\":\"\"},\"colorscale\":[[0.0,\"#0d0887\"],[0.1111111111111111,\"#46039f\"],[0.2222222222222222,\"#7201a8\"],[0.3333333333333333,\"#9c179e\"],[0.4444444444444444,\"#bd3786\"],[0.5555555555555556,\"#d8576b\"],[0.6666666666666666,\"#ed7953\"],[0.7777777777777778,\"#fb9f3a\"],[0.8888888888888888,\"#fdca26\"],[1.0,\"#f0f921\"]]}],\"heatmapgl\":[{\"type\":\"heatmapgl\",\"colorbar\":{\"outlinewidth\":0,\"ticks\":\"\"},\"colorscale\":[[0.0,\"#0d0887\"],[0.1111111111111111,\"#46039f\"],[0.2222222222222222,\"#7201a8\"],[0.3333333333333333,\"#9c179e\"],[0.4444444444444444,\"#bd3786\"],[0.5555555555555556,\"#d8576b\"],[0.6666666666666666,\"#ed7953\"],[0.7777777777777778,\"#fb9f3a\"],[0.8888888888888888,\"#fdca26\"],[1.0,\"#f0f921\"]]}],\"contourcarpet\":[{\"type\":\"contourcarpet\",\"colorbar\":{\"outlinewidth\":0,\"ticks\":\"\"}}],\"contour\":[{\"type\":\"contour\",\"colorbar\":{\"outlinewidth\":0,\"ticks\":\"\"},\"colorscale\":[[0.0,\"#0d0887\"],[0.1111111111111111,\"#46039f\"],[0.2222222222222222,\"#7201a8\"],[0.3333333333333333,\"#9c179e\"],[0.4444444444444444,\"#bd3786\"],[0.5555555555555556,\"#d8576b\"],[0.6666666666666666,\"#ed7953\"],[0.7777777777777778,\"#fb9f3a\"],[0.8888888888888888,\"#fdca26\"],[1.0,\"#f0f921\"]]}],\"surface\":[{\"type\":\"surface\",\"colorbar\":{\"outlinewidth\":0,\"ticks\":\"\"},\"colorscale\":[[0.0,\"#0d0887\"],[0.1111111111111111,\"#46039f\"],[0.2222222222222222,\"#7201a8\"],[0.3333333333333333,\"#9c179e\"],[0.4444444444444444,\"#bd3786\"],[0.5555555555555556,\"#d8576b\"],[0.6666666666666666,\"#ed7953\"],[0.7777777777777778,\"#fb9f3a\"],[0.8888888888888888,\"#fdca26\"],[1.0,\"#f0f921\"]]}],\"mesh3d\":[{\"type\":\"mesh3d\",\"colorbar\":{\"outlinewidth\":0,\"ticks\":\"\"}}],\"scatter\":[{\"marker\":{\"line\":{\"color\":\"#283442\"}},\"type\":\"scatter\"}],\"parcoords\":[{\"type\":\"parcoords\",\"line\":{\"colorbar\":{\"outlinewidth\":0,\"ticks\":\"\"}}}],\"scatterpolargl\":[{\"type\":\"scatterpolargl\",\"marker\":{\"colorbar\":{\"outlinewidth\":0,\"ticks\":\"\"}}}],\"bar\":[{\"error_x\":{\"color\":\"#f2f5fa\"},\"error_y\":{\"color\":\"#f2f5fa\"},\"marker\":{\"line\":{\"color\":\"rgb(17,17,17)\",\"width\":0.5},\"pattern\":{\"fillmode\":\"overlay\",\"size\":10,\"solidity\":0.2}},\"type\":\"bar\"}],\"scattergeo\":[{\"type\":\"scattergeo\",\"marker\":{\"colorbar\":{\"outlinewidth\":0,\"ticks\":\"\"}}}],\"scatterpolar\":[{\"type\":\"scatterpolar\",\"marker\":{\"colorbar\":{\"outlinewidth\":0,\"ticks\":\"\"}}}],\"histogram\":[{\"marker\":{\"pattern\":{\"fillmode\":\"overlay\",\"size\":10,\"solidity\":0.2}},\"type\":\"histogram\"}],\"scattergl\":[{\"marker\":{\"line\":{\"color\":\"#283442\"}},\"type\":\"scattergl\"}],\"scatter3d\":[{\"type\":\"scatter3d\",\"line\":{\"colorbar\":{\"outlinewidth\":0,\"ticks\":\"\"}},\"marker\":{\"colorbar\":{\"outlinewidth\":0,\"ticks\":\"\"}}}],\"scattermapbox\":[{\"type\":\"scattermapbox\",\"marker\":{\"colorbar\":{\"outlinewidth\":0,\"ticks\":\"\"}}}],\"scatterternary\":[{\"type\":\"scatterternary\",\"marker\":{\"colorbar\":{\"outlinewidth\":0,\"ticks\":\"\"}}}],\"scattercarpet\":[{\"type\":\"scattercarpet\",\"marker\":{\"colorbar\":{\"outlinewidth\":0,\"ticks\":\"\"}}}],\"carpet\":[{\"aaxis\":{\"endlinecolor\":\"#A2B1C6\",\"gridcolor\":\"#506784\",\"linecolor\":\"#506784\",\"minorgridcolor\":\"#506784\",\"startlinecolor\":\"#A2B1C6\"},\"baxis\":{\"endlinecolor\":\"#A2B1C6\",\"gridcolor\":\"#506784\",\"linecolor\":\"#506784\",\"minorgridcolor\":\"#506784\",\"startlinecolor\":\"#A2B1C6\"},\"type\":\"carpet\"}],\"table\":[{\"cells\":{\"fill\":{\"color\":\"#506784\"},\"line\":{\"color\":\"rgb(17,17,17)\"}},\"header\":{\"fill\":{\"color\":\"#2a3f5f\"},\"line\":{\"color\":\"rgb(17,17,17)\"}},\"type\":\"table\"}],\"barpolar\":[{\"marker\":{\"line\":{\"color\":\"rgb(17,17,17)\",\"width\":0.5},\"pattern\":{\"fillmode\":\"overlay\",\"size\":10,\"solidity\":0.2}},\"type\":\"barpolar\"}],\"pie\":[{\"automargin\":true,\"type\":\"pie\"}]},\"layout\":{\"autotypenumbers\":\"strict\",\"colorway\":[\"#636efa\",\"#EF553B\",\"#00cc96\",\"#ab63fa\",\"#FFA15A\",\"#19d3f3\",\"#FF6692\",\"#B6E880\",\"#FF97FF\",\"#FECB52\"],\"font\":{\"color\":\"#f2f5fa\"},\"hovermode\":\"closest\",\"hoverlabel\":{\"align\":\"left\"},\"paper_bgcolor\":\"rgb(17,17,17)\",\"plot_bgcolor\":\"rgb(17,17,17)\",\"polar\":{\"bgcolor\":\"rgb(17,17,17)\",\"angularaxis\":{\"gridcolor\":\"#506784\",\"linecolor\":\"#506784\",\"ticks\":\"\"},\"radialaxis\":{\"gridcolor\":\"#506784\",\"linecolor\":\"#506784\",\"ticks\":\"\"}},\"ternary\":{\"bgcolor\":\"rgb(17,17,17)\",\"aaxis\":{\"gridcolor\":\"#506784\",\"linecolor\":\"#506784\",\"ticks\":\"\"},\"baxis\":{\"gridcolor\":\"#506784\",\"linecolor\":\"#506784\",\"ticks\":\"\"},\"caxis\":{\"gridcolor\":\"#506784\",\"linecolor\":\"#506784\",\"ticks\":\"\"}},\"coloraxis\":{\"colorbar\":{\"outlinewidth\":0,\"ticks\":\"\"}},\"colorscale\":{\"sequential\":[[0.0,\"#0d0887\"],[0.1111111111111111,\"#46039f\"],[0.2222222222222222,\"#7201a8\"],[0.3333333333333333,\"#9c179e\"],[0.4444444444444444,\"#bd3786\"],[0.5555555555555556,\"#d8576b\"],[0.6666666666666666,\"#ed7953\"],[0.7777777777777778,\"#fb9f3a\"],[0.8888888888888888,\"#fdca26\"],[1.0,\"#f0f921\"]],\"sequentialminus\":[[0.0,\"#0d0887\"],[0.1111111111111111,\"#46039f\"],[0.2222222222222222,\"#7201a8\"],[0.3333333333333333,\"#9c179e\"],[0.4444444444444444,\"#bd3786\"],[0.5555555555555556,\"#d8576b\"],[0.6666666666666666,\"#ed7953\"],[0.7777777777777778,\"#fb9f3a\"],[0.8888888888888888,\"#fdca26\"],[1.0,\"#f0f921\"]],\"diverging\":[[0,\"#8e0152\"],[0.1,\"#c51b7d\"],[0.2,\"#de77ae\"],[0.3,\"#f1b6da\"],[0.4,\"#fde0ef\"],[0.5,\"#f7f7f7\"],[0.6,\"#e6f5d0\"],[0.7,\"#b8e186\"],[0.8,\"#7fbc41\"],[0.9,\"#4d9221\"],[1,\"#276419\"]]},\"xaxis\":{\"gridcolor\":\"#283442\",\"linecolor\":\"#506784\",\"ticks\":\"\",\"title\":{\"standoff\":15},\"zerolinecolor\":\"#283442\",\"automargin\":true,\"zerolinewidth\":2},\"yaxis\":{\"gridcolor\":\"#283442\",\"linecolor\":\"#506784\",\"ticks\":\"\",\"title\":{\"standoff\":15},\"zerolinecolor\":\"#283442\",\"automargin\":true,\"zerolinewidth\":2},\"scene\":{\"xaxis\":{\"backgroundcolor\":\"rgb(17,17,17)\",\"gridcolor\":\"#506784\",\"linecolor\":\"#506784\",\"showbackground\":true,\"ticks\":\"\",\"zerolinecolor\":\"#C8D4E3\",\"gridwidth\":2},\"yaxis\":{\"backgroundcolor\":\"rgb(17,17,17)\",\"gridcolor\":\"#506784\",\"linecolor\":\"#506784\",\"showbackground\":true,\"ticks\":\"\",\"zerolinecolor\":\"#C8D4E3\",\"gridwidth\":2},\"zaxis\":{\"backgroundcolor\":\"rgb(17,17,17)\",\"gridcolor\":\"#506784\",\"linecolor\":\"#506784\",\"showbackground\":true,\"ticks\":\"\",\"zerolinecolor\":\"#C8D4E3\",\"gridwidth\":2}},\"shapedefaults\":{\"line\":{\"color\":\"#f2f5fa\"}},\"annotationdefaults\":{\"arrowcolor\":\"#f2f5fa\",\"arrowhead\":0,\"arrowwidth\":1},\"geo\":{\"bgcolor\":\"rgb(17,17,17)\",\"landcolor\":\"rgb(17,17,17)\",\"subunitcolor\":\"#506784\",\"showland\":true,\"showlakes\":true,\"lakecolor\":\"rgb(17,17,17)\"},\"title\":{\"x\":0.05},\"updatemenudefaults\":{\"bgcolor\":\"#506784\",\"borderwidth\":0},\"sliderdefaults\":{\"bgcolor\":\"#C8D4E3\",\"borderwidth\":1,\"bordercolor\":\"rgb(17,17,17)\",\"tickwidth\":0},\"mapbox\":{\"style\":\"dark\"}}},\"legend\":{\"tracegroupgap\":0},\"title\":{\"text\":\"Net Worth in relation to Countries\"}},                        {\"responsive\": true}                    ).then(function(){\n                            \nvar gd = document.getElementById('b89cde66-dd77-4652-8cef-b580e45aaf29');\nvar x = new MutationObserver(function (mutations, observer) {{\n        var display = window.getComputedStyle(gd).display;\n        if (!display || display === 'none') {{\n            console.log([gd, 'removed!']);\n            Plotly.purge(gd);\n            observer.disconnect();\n        }}\n}});\n\n// Listen for the removal of the full notebook cells\nvar notebookContainer = gd.closest('#notebook-container');\nif (notebookContainer) {{\n    x.observe(notebookContainer, {childList: true});\n}}\n\n// Listen for the clearing of the current output cell\nvar outputEl = gd.closest('.output');\nif (outputEl) {{\n    x.observe(outputEl, {childList: true});\n}}\n\n                        })                };                });            </script>        </div>"
     },
     "metadata": {},
     "output_type": "display_data"
    }
   ],
   "source": [
    "country_pie = px.pie(top_10_billionaires, values='net_worth', names='country', title='Net Worth in relation to Countries')\n",
    "country_pie.show()"
   ],
   "metadata": {
    "collapsed": false,
    "ExecuteTime": {
     "end_time": "2023-11-05T03:22:39.524706Z",
     "start_time": "2023-11-05T03:22:39.468476Z"
    }
   },
   "id": "92dd949d1ffa4b38"
  },
  {
   "cell_type": "markdown",
   "source": [
    "# Pie Chart of Industries"
   ],
   "metadata": {
    "collapsed": false
   },
   "id": "2e3b433d7bb3aa46"
  },
  {
   "cell_type": "code",
   "execution_count": 162,
   "outputs": [
    {
     "data": {
      "application/vnd.plotly.v1+json": {
       "data": [
        {
         "domain": {
          "x": [
           0.0,
           1.0
          ],
          "y": [
           0.0,
           1.0
          ]
         },
         "hovertemplate": "industry=%{label}<br>net_worth=%{value}<extra></extra>",
         "labels": [
          "Fashion & Retail",
          "Automotive",
          "Technology",
          "Technology",
          "Finance & Investments",
          "Technology",
          "Media & Entertainment",
          "Telecom",
          "Diversified",
          "Technology"
         ],
         "legendgroup": "",
         "name": "",
         "showlegend": true,
         "values": [
          211.0,
          180.0,
          114.0,
          107.0,
          106.0,
          104.0,
          94.5,
          93.0,
          83.4,
          80.7
         ],
         "type": "pie"
        }
       ],
       "layout": {
        "template": {
         "data": {
          "histogram2dcontour": [
           {
            "type": "histogram2dcontour",
            "colorbar": {
             "outlinewidth": 0,
             "ticks": ""
            },
            "colorscale": [
             [
              0.0,
              "#0d0887"
             ],
             [
              0.1111111111111111,
              "#46039f"
             ],
             [
              0.2222222222222222,
              "#7201a8"
             ],
             [
              0.3333333333333333,
              "#9c179e"
             ],
             [
              0.4444444444444444,
              "#bd3786"
             ],
             [
              0.5555555555555556,
              "#d8576b"
             ],
             [
              0.6666666666666666,
              "#ed7953"
             ],
             [
              0.7777777777777778,
              "#fb9f3a"
             ],
             [
              0.8888888888888888,
              "#fdca26"
             ],
             [
              1.0,
              "#f0f921"
             ]
            ]
           }
          ],
          "choropleth": [
           {
            "type": "choropleth",
            "colorbar": {
             "outlinewidth": 0,
             "ticks": ""
            }
           }
          ],
          "histogram2d": [
           {
            "type": "histogram2d",
            "colorbar": {
             "outlinewidth": 0,
             "ticks": ""
            },
            "colorscale": [
             [
              0.0,
              "#0d0887"
             ],
             [
              0.1111111111111111,
              "#46039f"
             ],
             [
              0.2222222222222222,
              "#7201a8"
             ],
             [
              0.3333333333333333,
              "#9c179e"
             ],
             [
              0.4444444444444444,
              "#bd3786"
             ],
             [
              0.5555555555555556,
              "#d8576b"
             ],
             [
              0.6666666666666666,
              "#ed7953"
             ],
             [
              0.7777777777777778,
              "#fb9f3a"
             ],
             [
              0.8888888888888888,
              "#fdca26"
             ],
             [
              1.0,
              "#f0f921"
             ]
            ]
           }
          ],
          "heatmap": [
           {
            "type": "heatmap",
            "colorbar": {
             "outlinewidth": 0,
             "ticks": ""
            },
            "colorscale": [
             [
              0.0,
              "#0d0887"
             ],
             [
              0.1111111111111111,
              "#46039f"
             ],
             [
              0.2222222222222222,
              "#7201a8"
             ],
             [
              0.3333333333333333,
              "#9c179e"
             ],
             [
              0.4444444444444444,
              "#bd3786"
             ],
             [
              0.5555555555555556,
              "#d8576b"
             ],
             [
              0.6666666666666666,
              "#ed7953"
             ],
             [
              0.7777777777777778,
              "#fb9f3a"
             ],
             [
              0.8888888888888888,
              "#fdca26"
             ],
             [
              1.0,
              "#f0f921"
             ]
            ]
           }
          ],
          "heatmapgl": [
           {
            "type": "heatmapgl",
            "colorbar": {
             "outlinewidth": 0,
             "ticks": ""
            },
            "colorscale": [
             [
              0.0,
              "#0d0887"
             ],
             [
              0.1111111111111111,
              "#46039f"
             ],
             [
              0.2222222222222222,
              "#7201a8"
             ],
             [
              0.3333333333333333,
              "#9c179e"
             ],
             [
              0.4444444444444444,
              "#bd3786"
             ],
             [
              0.5555555555555556,
              "#d8576b"
             ],
             [
              0.6666666666666666,
              "#ed7953"
             ],
             [
              0.7777777777777778,
              "#fb9f3a"
             ],
             [
              0.8888888888888888,
              "#fdca26"
             ],
             [
              1.0,
              "#f0f921"
             ]
            ]
           }
          ],
          "contourcarpet": [
           {
            "type": "contourcarpet",
            "colorbar": {
             "outlinewidth": 0,
             "ticks": ""
            }
           }
          ],
          "contour": [
           {
            "type": "contour",
            "colorbar": {
             "outlinewidth": 0,
             "ticks": ""
            },
            "colorscale": [
             [
              0.0,
              "#0d0887"
             ],
             [
              0.1111111111111111,
              "#46039f"
             ],
             [
              0.2222222222222222,
              "#7201a8"
             ],
             [
              0.3333333333333333,
              "#9c179e"
             ],
             [
              0.4444444444444444,
              "#bd3786"
             ],
             [
              0.5555555555555556,
              "#d8576b"
             ],
             [
              0.6666666666666666,
              "#ed7953"
             ],
             [
              0.7777777777777778,
              "#fb9f3a"
             ],
             [
              0.8888888888888888,
              "#fdca26"
             ],
             [
              1.0,
              "#f0f921"
             ]
            ]
           }
          ],
          "surface": [
           {
            "type": "surface",
            "colorbar": {
             "outlinewidth": 0,
             "ticks": ""
            },
            "colorscale": [
             [
              0.0,
              "#0d0887"
             ],
             [
              0.1111111111111111,
              "#46039f"
             ],
             [
              0.2222222222222222,
              "#7201a8"
             ],
             [
              0.3333333333333333,
              "#9c179e"
             ],
             [
              0.4444444444444444,
              "#bd3786"
             ],
             [
              0.5555555555555556,
              "#d8576b"
             ],
             [
              0.6666666666666666,
              "#ed7953"
             ],
             [
              0.7777777777777778,
              "#fb9f3a"
             ],
             [
              0.8888888888888888,
              "#fdca26"
             ],
             [
              1.0,
              "#f0f921"
             ]
            ]
           }
          ],
          "mesh3d": [
           {
            "type": "mesh3d",
            "colorbar": {
             "outlinewidth": 0,
             "ticks": ""
            }
           }
          ],
          "scatter": [
           {
            "marker": {
             "line": {
              "color": "#283442"
             }
            },
            "type": "scatter"
           }
          ],
          "parcoords": [
           {
            "type": "parcoords",
            "line": {
             "colorbar": {
              "outlinewidth": 0,
              "ticks": ""
             }
            }
           }
          ],
          "scatterpolargl": [
           {
            "type": "scatterpolargl",
            "marker": {
             "colorbar": {
              "outlinewidth": 0,
              "ticks": ""
             }
            }
           }
          ],
          "bar": [
           {
            "error_x": {
             "color": "#f2f5fa"
            },
            "error_y": {
             "color": "#f2f5fa"
            },
            "marker": {
             "line": {
              "color": "rgb(17,17,17)",
              "width": 0.5
             },
             "pattern": {
              "fillmode": "overlay",
              "size": 10,
              "solidity": 0.2
             }
            },
            "type": "bar"
           }
          ],
          "scattergeo": [
           {
            "type": "scattergeo",
            "marker": {
             "colorbar": {
              "outlinewidth": 0,
              "ticks": ""
             }
            }
           }
          ],
          "scatterpolar": [
           {
            "type": "scatterpolar",
            "marker": {
             "colorbar": {
              "outlinewidth": 0,
              "ticks": ""
             }
            }
           }
          ],
          "histogram": [
           {
            "marker": {
             "pattern": {
              "fillmode": "overlay",
              "size": 10,
              "solidity": 0.2
             }
            },
            "type": "histogram"
           }
          ],
          "scattergl": [
           {
            "marker": {
             "line": {
              "color": "#283442"
             }
            },
            "type": "scattergl"
           }
          ],
          "scatter3d": [
           {
            "type": "scatter3d",
            "line": {
             "colorbar": {
              "outlinewidth": 0,
              "ticks": ""
             }
            },
            "marker": {
             "colorbar": {
              "outlinewidth": 0,
              "ticks": ""
             }
            }
           }
          ],
          "scattermapbox": [
           {
            "type": "scattermapbox",
            "marker": {
             "colorbar": {
              "outlinewidth": 0,
              "ticks": ""
             }
            }
           }
          ],
          "scatterternary": [
           {
            "type": "scatterternary",
            "marker": {
             "colorbar": {
              "outlinewidth": 0,
              "ticks": ""
             }
            }
           }
          ],
          "scattercarpet": [
           {
            "type": "scattercarpet",
            "marker": {
             "colorbar": {
              "outlinewidth": 0,
              "ticks": ""
             }
            }
           }
          ],
          "carpet": [
           {
            "aaxis": {
             "endlinecolor": "#A2B1C6",
             "gridcolor": "#506784",
             "linecolor": "#506784",
             "minorgridcolor": "#506784",
             "startlinecolor": "#A2B1C6"
            },
            "baxis": {
             "endlinecolor": "#A2B1C6",
             "gridcolor": "#506784",
             "linecolor": "#506784",
             "minorgridcolor": "#506784",
             "startlinecolor": "#A2B1C6"
            },
            "type": "carpet"
           }
          ],
          "table": [
           {
            "cells": {
             "fill": {
              "color": "#506784"
             },
             "line": {
              "color": "rgb(17,17,17)"
             }
            },
            "header": {
             "fill": {
              "color": "#2a3f5f"
             },
             "line": {
              "color": "rgb(17,17,17)"
             }
            },
            "type": "table"
           }
          ],
          "barpolar": [
           {
            "marker": {
             "line": {
              "color": "rgb(17,17,17)",
              "width": 0.5
             },
             "pattern": {
              "fillmode": "overlay",
              "size": 10,
              "solidity": 0.2
             }
            },
            "type": "barpolar"
           }
          ],
          "pie": [
           {
            "automargin": true,
            "type": "pie"
           }
          ]
         },
         "layout": {
          "autotypenumbers": "strict",
          "colorway": [
           "#636efa",
           "#EF553B",
           "#00cc96",
           "#ab63fa",
           "#FFA15A",
           "#19d3f3",
           "#FF6692",
           "#B6E880",
           "#FF97FF",
           "#FECB52"
          ],
          "font": {
           "color": "#f2f5fa"
          },
          "hovermode": "closest",
          "hoverlabel": {
           "align": "left"
          },
          "paper_bgcolor": "rgb(17,17,17)",
          "plot_bgcolor": "rgb(17,17,17)",
          "polar": {
           "bgcolor": "rgb(17,17,17)",
           "angularaxis": {
            "gridcolor": "#506784",
            "linecolor": "#506784",
            "ticks": ""
           },
           "radialaxis": {
            "gridcolor": "#506784",
            "linecolor": "#506784",
            "ticks": ""
           }
          },
          "ternary": {
           "bgcolor": "rgb(17,17,17)",
           "aaxis": {
            "gridcolor": "#506784",
            "linecolor": "#506784",
            "ticks": ""
           },
           "baxis": {
            "gridcolor": "#506784",
            "linecolor": "#506784",
            "ticks": ""
           },
           "caxis": {
            "gridcolor": "#506784",
            "linecolor": "#506784",
            "ticks": ""
           }
          },
          "coloraxis": {
           "colorbar": {
            "outlinewidth": 0,
            "ticks": ""
           }
          },
          "colorscale": {
           "sequential": [
            [
             0.0,
             "#0d0887"
            ],
            [
             0.1111111111111111,
             "#46039f"
            ],
            [
             0.2222222222222222,
             "#7201a8"
            ],
            [
             0.3333333333333333,
             "#9c179e"
            ],
            [
             0.4444444444444444,
             "#bd3786"
            ],
            [
             0.5555555555555556,
             "#d8576b"
            ],
            [
             0.6666666666666666,
             "#ed7953"
            ],
            [
             0.7777777777777778,
             "#fb9f3a"
            ],
            [
             0.8888888888888888,
             "#fdca26"
            ],
            [
             1.0,
             "#f0f921"
            ]
           ],
           "sequentialminus": [
            [
             0.0,
             "#0d0887"
            ],
            [
             0.1111111111111111,
             "#46039f"
            ],
            [
             0.2222222222222222,
             "#7201a8"
            ],
            [
             0.3333333333333333,
             "#9c179e"
            ],
            [
             0.4444444444444444,
             "#bd3786"
            ],
            [
             0.5555555555555556,
             "#d8576b"
            ],
            [
             0.6666666666666666,
             "#ed7953"
            ],
            [
             0.7777777777777778,
             "#fb9f3a"
            ],
            [
             0.8888888888888888,
             "#fdca26"
            ],
            [
             1.0,
             "#f0f921"
            ]
           ],
           "diverging": [
            [
             0,
             "#8e0152"
            ],
            [
             0.1,
             "#c51b7d"
            ],
            [
             0.2,
             "#de77ae"
            ],
            [
             0.3,
             "#f1b6da"
            ],
            [
             0.4,
             "#fde0ef"
            ],
            [
             0.5,
             "#f7f7f7"
            ],
            [
             0.6,
             "#e6f5d0"
            ],
            [
             0.7,
             "#b8e186"
            ],
            [
             0.8,
             "#7fbc41"
            ],
            [
             0.9,
             "#4d9221"
            ],
            [
             1,
             "#276419"
            ]
           ]
          },
          "xaxis": {
           "gridcolor": "#283442",
           "linecolor": "#506784",
           "ticks": "",
           "title": {
            "standoff": 15
           },
           "zerolinecolor": "#283442",
           "automargin": true,
           "zerolinewidth": 2
          },
          "yaxis": {
           "gridcolor": "#283442",
           "linecolor": "#506784",
           "ticks": "",
           "title": {
            "standoff": 15
           },
           "zerolinecolor": "#283442",
           "automargin": true,
           "zerolinewidth": 2
          },
          "scene": {
           "xaxis": {
            "backgroundcolor": "rgb(17,17,17)",
            "gridcolor": "#506784",
            "linecolor": "#506784",
            "showbackground": true,
            "ticks": "",
            "zerolinecolor": "#C8D4E3",
            "gridwidth": 2
           },
           "yaxis": {
            "backgroundcolor": "rgb(17,17,17)",
            "gridcolor": "#506784",
            "linecolor": "#506784",
            "showbackground": true,
            "ticks": "",
            "zerolinecolor": "#C8D4E3",
            "gridwidth": 2
           },
           "zaxis": {
            "backgroundcolor": "rgb(17,17,17)",
            "gridcolor": "#506784",
            "linecolor": "#506784",
            "showbackground": true,
            "ticks": "",
            "zerolinecolor": "#C8D4E3",
            "gridwidth": 2
           }
          },
          "shapedefaults": {
           "line": {
            "color": "#f2f5fa"
           }
          },
          "annotationdefaults": {
           "arrowcolor": "#f2f5fa",
           "arrowhead": 0,
           "arrowwidth": 1
          },
          "geo": {
           "bgcolor": "rgb(17,17,17)",
           "landcolor": "rgb(17,17,17)",
           "subunitcolor": "#506784",
           "showland": true,
           "showlakes": true,
           "lakecolor": "rgb(17,17,17)"
          },
          "title": {
           "x": 0.05
          },
          "updatemenudefaults": {
           "bgcolor": "#506784",
           "borderwidth": 0
          },
          "sliderdefaults": {
           "bgcolor": "#C8D4E3",
           "borderwidth": 1,
           "bordercolor": "rgb(17,17,17)",
           "tickwidth": 0
          },
          "mapbox": {
           "style": "dark"
          }
         }
        },
        "legend": {
         "tracegroupgap": 0
        },
        "title": {
         "text": "Net Worth in relation to Industries"
        }
       },
       "config": {
        "plotlyServerURL": "https://plot.ly"
       }
      },
      "text/html": "<div>                            <div id=\"e9d7f67f-ba05-43e5-91d3-9daf479c1e51\" class=\"plotly-graph-div\" style=\"height:525px; width:100%;\"></div>            <script type=\"text/javascript\">                require([\"plotly\"], function(Plotly) {                    window.PLOTLYENV=window.PLOTLYENV || {};                                    if (document.getElementById(\"e9d7f67f-ba05-43e5-91d3-9daf479c1e51\")) {                    Plotly.newPlot(                        \"e9d7f67f-ba05-43e5-91d3-9daf479c1e51\",                        [{\"domain\":{\"x\":[0.0,1.0],\"y\":[0.0,1.0]},\"hovertemplate\":\"industry=%{label}\\u003cbr\\u003enet_worth=%{value}\\u003cextra\\u003e\\u003c\\u002fextra\\u003e\",\"labels\":[\"Fashion & Retail\",\"Automotive\",\"Technology\",\"Technology\",\"Finance & Investments\",\"Technology\",\"Media & Entertainment\",\"Telecom\",\"Diversified\",\"Technology\"],\"legendgroup\":\"\",\"name\":\"\",\"showlegend\":true,\"values\":[211.0,180.0,114.0,107.0,106.0,104.0,94.5,93.0,83.4,80.7],\"type\":\"pie\"}],                        {\"template\":{\"data\":{\"histogram2dcontour\":[{\"type\":\"histogram2dcontour\",\"colorbar\":{\"outlinewidth\":0,\"ticks\":\"\"},\"colorscale\":[[0.0,\"#0d0887\"],[0.1111111111111111,\"#46039f\"],[0.2222222222222222,\"#7201a8\"],[0.3333333333333333,\"#9c179e\"],[0.4444444444444444,\"#bd3786\"],[0.5555555555555556,\"#d8576b\"],[0.6666666666666666,\"#ed7953\"],[0.7777777777777778,\"#fb9f3a\"],[0.8888888888888888,\"#fdca26\"],[1.0,\"#f0f921\"]]}],\"choropleth\":[{\"type\":\"choropleth\",\"colorbar\":{\"outlinewidth\":0,\"ticks\":\"\"}}],\"histogram2d\":[{\"type\":\"histogram2d\",\"colorbar\":{\"outlinewidth\":0,\"ticks\":\"\"},\"colorscale\":[[0.0,\"#0d0887\"],[0.1111111111111111,\"#46039f\"],[0.2222222222222222,\"#7201a8\"],[0.3333333333333333,\"#9c179e\"],[0.4444444444444444,\"#bd3786\"],[0.5555555555555556,\"#d8576b\"],[0.6666666666666666,\"#ed7953\"],[0.7777777777777778,\"#fb9f3a\"],[0.8888888888888888,\"#fdca26\"],[1.0,\"#f0f921\"]]}],\"heatmap\":[{\"type\":\"heatmap\",\"colorbar\":{\"outlinewidth\":0,\"ticks\":\"\"},\"colorscale\":[[0.0,\"#0d0887\"],[0.1111111111111111,\"#46039f\"],[0.2222222222222222,\"#7201a8\"],[0.3333333333333333,\"#9c179e\"],[0.4444444444444444,\"#bd3786\"],[0.5555555555555556,\"#d8576b\"],[0.6666666666666666,\"#ed7953\"],[0.7777777777777778,\"#fb9f3a\"],[0.8888888888888888,\"#fdca26\"],[1.0,\"#f0f921\"]]}],\"heatmapgl\":[{\"type\":\"heatmapgl\",\"colorbar\":{\"outlinewidth\":0,\"ticks\":\"\"},\"colorscale\":[[0.0,\"#0d0887\"],[0.1111111111111111,\"#46039f\"],[0.2222222222222222,\"#7201a8\"],[0.3333333333333333,\"#9c179e\"],[0.4444444444444444,\"#bd3786\"],[0.5555555555555556,\"#d8576b\"],[0.6666666666666666,\"#ed7953\"],[0.7777777777777778,\"#fb9f3a\"],[0.8888888888888888,\"#fdca26\"],[1.0,\"#f0f921\"]]}],\"contourcarpet\":[{\"type\":\"contourcarpet\",\"colorbar\":{\"outlinewidth\":0,\"ticks\":\"\"}}],\"contour\":[{\"type\":\"contour\",\"colorbar\":{\"outlinewidth\":0,\"ticks\":\"\"},\"colorscale\":[[0.0,\"#0d0887\"],[0.1111111111111111,\"#46039f\"],[0.2222222222222222,\"#7201a8\"],[0.3333333333333333,\"#9c179e\"],[0.4444444444444444,\"#bd3786\"],[0.5555555555555556,\"#d8576b\"],[0.6666666666666666,\"#ed7953\"],[0.7777777777777778,\"#fb9f3a\"],[0.8888888888888888,\"#fdca26\"],[1.0,\"#f0f921\"]]}],\"surface\":[{\"type\":\"surface\",\"colorbar\":{\"outlinewidth\":0,\"ticks\":\"\"},\"colorscale\":[[0.0,\"#0d0887\"],[0.1111111111111111,\"#46039f\"],[0.2222222222222222,\"#7201a8\"],[0.3333333333333333,\"#9c179e\"],[0.4444444444444444,\"#bd3786\"],[0.5555555555555556,\"#d8576b\"],[0.6666666666666666,\"#ed7953\"],[0.7777777777777778,\"#fb9f3a\"],[0.8888888888888888,\"#fdca26\"],[1.0,\"#f0f921\"]]}],\"mesh3d\":[{\"type\":\"mesh3d\",\"colorbar\":{\"outlinewidth\":0,\"ticks\":\"\"}}],\"scatter\":[{\"marker\":{\"line\":{\"color\":\"#283442\"}},\"type\":\"scatter\"}],\"parcoords\":[{\"type\":\"parcoords\",\"line\":{\"colorbar\":{\"outlinewidth\":0,\"ticks\":\"\"}}}],\"scatterpolargl\":[{\"type\":\"scatterpolargl\",\"marker\":{\"colorbar\":{\"outlinewidth\":0,\"ticks\":\"\"}}}],\"bar\":[{\"error_x\":{\"color\":\"#f2f5fa\"},\"error_y\":{\"color\":\"#f2f5fa\"},\"marker\":{\"line\":{\"color\":\"rgb(17,17,17)\",\"width\":0.5},\"pattern\":{\"fillmode\":\"overlay\",\"size\":10,\"solidity\":0.2}},\"type\":\"bar\"}],\"scattergeo\":[{\"type\":\"scattergeo\",\"marker\":{\"colorbar\":{\"outlinewidth\":0,\"ticks\":\"\"}}}],\"scatterpolar\":[{\"type\":\"scatterpolar\",\"marker\":{\"colorbar\":{\"outlinewidth\":0,\"ticks\":\"\"}}}],\"histogram\":[{\"marker\":{\"pattern\":{\"fillmode\":\"overlay\",\"size\":10,\"solidity\":0.2}},\"type\":\"histogram\"}],\"scattergl\":[{\"marker\":{\"line\":{\"color\":\"#283442\"}},\"type\":\"scattergl\"}],\"scatter3d\":[{\"type\":\"scatter3d\",\"line\":{\"colorbar\":{\"outlinewidth\":0,\"ticks\":\"\"}},\"marker\":{\"colorbar\":{\"outlinewidth\":0,\"ticks\":\"\"}}}],\"scattermapbox\":[{\"type\":\"scattermapbox\",\"marker\":{\"colorbar\":{\"outlinewidth\":0,\"ticks\":\"\"}}}],\"scatterternary\":[{\"type\":\"scatterternary\",\"marker\":{\"colorbar\":{\"outlinewidth\":0,\"ticks\":\"\"}}}],\"scattercarpet\":[{\"type\":\"scattercarpet\",\"marker\":{\"colorbar\":{\"outlinewidth\":0,\"ticks\":\"\"}}}],\"carpet\":[{\"aaxis\":{\"endlinecolor\":\"#A2B1C6\",\"gridcolor\":\"#506784\",\"linecolor\":\"#506784\",\"minorgridcolor\":\"#506784\",\"startlinecolor\":\"#A2B1C6\"},\"baxis\":{\"endlinecolor\":\"#A2B1C6\",\"gridcolor\":\"#506784\",\"linecolor\":\"#506784\",\"minorgridcolor\":\"#506784\",\"startlinecolor\":\"#A2B1C6\"},\"type\":\"carpet\"}],\"table\":[{\"cells\":{\"fill\":{\"color\":\"#506784\"},\"line\":{\"color\":\"rgb(17,17,17)\"}},\"header\":{\"fill\":{\"color\":\"#2a3f5f\"},\"line\":{\"color\":\"rgb(17,17,17)\"}},\"type\":\"table\"}],\"barpolar\":[{\"marker\":{\"line\":{\"color\":\"rgb(17,17,17)\",\"width\":0.5},\"pattern\":{\"fillmode\":\"overlay\",\"size\":10,\"solidity\":0.2}},\"type\":\"barpolar\"}],\"pie\":[{\"automargin\":true,\"type\":\"pie\"}]},\"layout\":{\"autotypenumbers\":\"strict\",\"colorway\":[\"#636efa\",\"#EF553B\",\"#00cc96\",\"#ab63fa\",\"#FFA15A\",\"#19d3f3\",\"#FF6692\",\"#B6E880\",\"#FF97FF\",\"#FECB52\"],\"font\":{\"color\":\"#f2f5fa\"},\"hovermode\":\"closest\",\"hoverlabel\":{\"align\":\"left\"},\"paper_bgcolor\":\"rgb(17,17,17)\",\"plot_bgcolor\":\"rgb(17,17,17)\",\"polar\":{\"bgcolor\":\"rgb(17,17,17)\",\"angularaxis\":{\"gridcolor\":\"#506784\",\"linecolor\":\"#506784\",\"ticks\":\"\"},\"radialaxis\":{\"gridcolor\":\"#506784\",\"linecolor\":\"#506784\",\"ticks\":\"\"}},\"ternary\":{\"bgcolor\":\"rgb(17,17,17)\",\"aaxis\":{\"gridcolor\":\"#506784\",\"linecolor\":\"#506784\",\"ticks\":\"\"},\"baxis\":{\"gridcolor\":\"#506784\",\"linecolor\":\"#506784\",\"ticks\":\"\"},\"caxis\":{\"gridcolor\":\"#506784\",\"linecolor\":\"#506784\",\"ticks\":\"\"}},\"coloraxis\":{\"colorbar\":{\"outlinewidth\":0,\"ticks\":\"\"}},\"colorscale\":{\"sequential\":[[0.0,\"#0d0887\"],[0.1111111111111111,\"#46039f\"],[0.2222222222222222,\"#7201a8\"],[0.3333333333333333,\"#9c179e\"],[0.4444444444444444,\"#bd3786\"],[0.5555555555555556,\"#d8576b\"],[0.6666666666666666,\"#ed7953\"],[0.7777777777777778,\"#fb9f3a\"],[0.8888888888888888,\"#fdca26\"],[1.0,\"#f0f921\"]],\"sequentialminus\":[[0.0,\"#0d0887\"],[0.1111111111111111,\"#46039f\"],[0.2222222222222222,\"#7201a8\"],[0.3333333333333333,\"#9c179e\"],[0.4444444444444444,\"#bd3786\"],[0.5555555555555556,\"#d8576b\"],[0.6666666666666666,\"#ed7953\"],[0.7777777777777778,\"#fb9f3a\"],[0.8888888888888888,\"#fdca26\"],[1.0,\"#f0f921\"]],\"diverging\":[[0,\"#8e0152\"],[0.1,\"#c51b7d\"],[0.2,\"#de77ae\"],[0.3,\"#f1b6da\"],[0.4,\"#fde0ef\"],[0.5,\"#f7f7f7\"],[0.6,\"#e6f5d0\"],[0.7,\"#b8e186\"],[0.8,\"#7fbc41\"],[0.9,\"#4d9221\"],[1,\"#276419\"]]},\"xaxis\":{\"gridcolor\":\"#283442\",\"linecolor\":\"#506784\",\"ticks\":\"\",\"title\":{\"standoff\":15},\"zerolinecolor\":\"#283442\",\"automargin\":true,\"zerolinewidth\":2},\"yaxis\":{\"gridcolor\":\"#283442\",\"linecolor\":\"#506784\",\"ticks\":\"\",\"title\":{\"standoff\":15},\"zerolinecolor\":\"#283442\",\"automargin\":true,\"zerolinewidth\":2},\"scene\":{\"xaxis\":{\"backgroundcolor\":\"rgb(17,17,17)\",\"gridcolor\":\"#506784\",\"linecolor\":\"#506784\",\"showbackground\":true,\"ticks\":\"\",\"zerolinecolor\":\"#C8D4E3\",\"gridwidth\":2},\"yaxis\":{\"backgroundcolor\":\"rgb(17,17,17)\",\"gridcolor\":\"#506784\",\"linecolor\":\"#506784\",\"showbackground\":true,\"ticks\":\"\",\"zerolinecolor\":\"#C8D4E3\",\"gridwidth\":2},\"zaxis\":{\"backgroundcolor\":\"rgb(17,17,17)\",\"gridcolor\":\"#506784\",\"linecolor\":\"#506784\",\"showbackground\":true,\"ticks\":\"\",\"zerolinecolor\":\"#C8D4E3\",\"gridwidth\":2}},\"shapedefaults\":{\"line\":{\"color\":\"#f2f5fa\"}},\"annotationdefaults\":{\"arrowcolor\":\"#f2f5fa\",\"arrowhead\":0,\"arrowwidth\":1},\"geo\":{\"bgcolor\":\"rgb(17,17,17)\",\"landcolor\":\"rgb(17,17,17)\",\"subunitcolor\":\"#506784\",\"showland\":true,\"showlakes\":true,\"lakecolor\":\"rgb(17,17,17)\"},\"title\":{\"x\":0.05},\"updatemenudefaults\":{\"bgcolor\":\"#506784\",\"borderwidth\":0},\"sliderdefaults\":{\"bgcolor\":\"#C8D4E3\",\"borderwidth\":1,\"bordercolor\":\"rgb(17,17,17)\",\"tickwidth\":0},\"mapbox\":{\"style\":\"dark\"}}},\"legend\":{\"tracegroupgap\":0},\"title\":{\"text\":\"Net Worth in relation to Industries\"}},                        {\"responsive\": true}                    ).then(function(){\n                            \nvar gd = document.getElementById('e9d7f67f-ba05-43e5-91d3-9daf479c1e51');\nvar x = new MutationObserver(function (mutations, observer) {{\n        var display = window.getComputedStyle(gd).display;\n        if (!display || display === 'none') {{\n            console.log([gd, 'removed!']);\n            Plotly.purge(gd);\n            observer.disconnect();\n        }}\n}});\n\n// Listen for the removal of the full notebook cells\nvar notebookContainer = gd.closest('#notebook-container');\nif (notebookContainer) {{\n    x.observe(notebookContainer, {childList: true});\n}}\n\n// Listen for the clearing of the current output cell\nvar outputEl = gd.closest('.output');\nif (outputEl) {{\n    x.observe(outputEl, {childList: true});\n}}\n\n                        })                };                });            </script>        </div>"
     },
     "metadata": {},
     "output_type": "display_data"
    }
   ],
   "source": [
    "industry_pie = px.pie(top_10_billionaires, values='net_worth', names='industry', title='Net Worth in relation to Industries')\n",
    "industry_pie.show()"
   ],
   "metadata": {
    "collapsed": false,
    "ExecuteTime": {
     "end_time": "2023-11-05T03:22:47.333273Z",
     "start_time": "2023-11-05T03:22:47.319780Z"
    }
   },
   "id": "5d007231562dcdae"
  },
  {
   "cell_type": "markdown",
   "source": [
    "# Statistical Analysis"
   ],
   "metadata": {
    "collapsed": false
   },
   "id": "3fd5661be24c5ede"
  },
  {
   "cell_type": "code",
   "execution_count": 15,
   "outputs": [
    {
     "data": {
      "text/plain": "<Figure size 1200x1000 with 2 Axes>",
      "image/png": "[encoded data removed]"
     },
     "metadata": {},
     "output_type": "display_data"
    }
   ],
   "source": [
    "# create correlation matrix\n",
    "correlation_matrix = df.corr(numeric_only=True)\n",
    "\n",
    "# create a heatmap\n",
    "plt.figure(figsize= (12 ,10))\n",
    "sns.heatmap(correlation_matrix, annot = True, cmap = 'Greens', fmt = \".2f\", linewidths = 0.5 )\n",
    "\n",
    "#title\n",
    "plt.title('Correlation Heatmap', fontsize = 16, fontweight = 'bold')\n",
    "\n",
    "# display\n",
    "plt.show()"
   ],
   "metadata": {
    "collapsed": false,
    "ExecuteTime": {
     "end_time": "2023-11-03T02:31:07.829153Z",
     "start_time": "2023-11-03T02:31:06.949473Z"
    }
   },
   "id": "c1de6524"
  },
  {
   "cell_type": "markdown",
   "source": [
    "### Feature Engineering"
   ],
   "metadata": {
    "collapsed": false
   },
   "id": "62d47156fc3bae9b"
  },
  {
   "cell_type": "code",
   "execution_count": 147,
   "outputs": [],
   "source": [
    "# First - Create a copy of df to use for the statistical analysis.\n",
    "df_stats = df"
   ],
   "metadata": {
    "collapsed": false,
    "ExecuteTime": {
     "end_time": "2023-11-05T02:39:42.675957Z",
     "start_time": "2023-11-05T02:39:42.637821Z"
    }
   },
   "id": "22fb935c7d4a1544"
  },
  {
   "cell_type": "code",
   "execution_count": 148,
   "outputs": [
    {
     "name": "stdout",
     "output_type": "stream",
     "text": [
      "Object-type columns: ['name', 'forbes_id', 'country', 'source', 'industry', 'Source of Wealth', 'Residence', 'Citizenship', 'Marital Status', 'Education']\n",
      "Column 'name' has 2638 unique entries.\n",
      "Column 'forbes_id' has 2640 unique entries.\n",
      "Column 'country' has 77 unique entries.\n",
      "Column 'source' has 905 unique entries.\n",
      "Column 'industry' has 18 unique entries.\n",
      "Column 'Source of Wealth' has 1043 unique entries.\n",
      "Column 'Residence' has 772 unique entries.\n",
      "Column 'Citizenship' has 77 unique entries.\n",
      "Column 'Marital Status' has 8 unique entries.\n",
      "Column 'Education' has 1141 unique entries.\n"
     ]
    }
   ],
   "source": [
    "# Second - Select categorical variables to convert to dummies and drop the rest\n",
    "\n",
    "# Get a list of object-type columns\n",
    "object_columns = df_stats.select_dtypes(include=['object']).columns.tolist()\n",
    "\n",
    "# Print the list of object-type columns\n",
    "print(\"Object-type columns:\", object_columns)\n",
    "\n",
    "# Print the count of unique entries in each object-type column\n",
    "for column in object_columns:\n",
    "    unique_count = df_stats[column].nunique()\n",
    "    print(f\"Column '{column}' has {unique_count} unique entries.\")\n",
    "    \n",
    "# Create droplist\n",
    "drop_list = ['name','forbes_id','Source of Wealth','Residence','Education','country','Citizenship','source']\n",
    "\n",
    "# Drop droplist \n",
    "df_stats = df_stats.drop(drop_list, axis=1)"
   ],
   "metadata": {
    "collapsed": false,
    "ExecuteTime": {
     "end_time": "2023-11-05T02:39:43.086733Z",
     "start_time": "2023-11-05T02:39:43.032855Z"
    }
   },
   "id": "20817e2ebe966df5"
  },
  {
   "cell_type": "code",
   "execution_count": 149,
   "outputs": [],
   "source": [
    "# Create dummy variables and append them to dataframe\n",
    "\n",
    "# Create an empty list to store the dummy variables\n",
    "dummy_list = []\n",
    "\n",
    "# Loop through the DataFrame columns\n",
    "for column in df_stats.columns:\n",
    "    if df[column].dtype == 'object':\n",
    "        # Create dummy variables and append them to the list\n",
    "        dummies = pd.get_dummies(df[column], prefix=column)\n",
    "        dummy_list.append(dummies)\n",
    "\n",
    "# Concatenate the dummy variables into a new DataFrame\n",
    "dummy_df = pd.concat(dummy_list, axis=1)\n",
    "\n",
    "# Append the dummy variables to the main DataFrame\n",
    "df_stats = pd.concat([df_stats, dummy_df], axis=1)\n"
   ],
   "metadata": {
    "collapsed": false,
    "ExecuteTime": {
     "end_time": "2023-11-05T02:39:43.667831Z",
     "start_time": "2023-11-05T02:39:43.646193Z"
    }
   },
   "id": "a6c836e28570741b"
  },
  {
   "cell_type": "code",
   "execution_count": 150,
   "outputs": [
    {
     "data": {
      "text/plain": "      net_worth   age  age_range               industry   Age  \\\nrank                                                            \n1         211.0  74.0          8       Fashion & Retail  74.0   \n2         180.0  51.0          6             Automotive  52.0   \n3         114.0  59.0          6             Technology  59.0   \n4         107.0  78.0          8             Technology  79.0   \n5         106.0  92.0         10  Finance & Investments  92.0   \n\n      Self-Made Score  Philanthropy Score      Marital Status  Children  \\\nrank                                                                      \n1                 NaN                 NaN             Married       5.0   \n2                 8.0                 1.0              Single      10.0   \n3                 8.0                 2.0             Engaged       4.0   \n4                 9.0                 1.0     In Relationship       4.0   \n5                 8.0                 5.0  Widowed, Remarried       3.0   \n\n      Bachelor  ...  industry_Technology  industry_Telecom  \\\nrank            ...                                          \n1          1.0  ...                False             False   \n2          1.0  ...                False             False   \n3          1.0  ...                 True             False   \n4          0.0  ...                 True             False   \n5          1.0  ...                False             False   \n\n      Marital Status_Divorced  Marital Status_Engaged  \\\nrank                                                    \n1                       False                   False   \n2                       False                   False   \n3                       False                    True   \n4                       False                   False   \n5                       False                   False   \n\n      Marital Status_In Relationship  Marital Status_Married  \\\nrank                                                           \n1                              False                    True   \n2                              False                   False   \n3                              False                   False   \n4                               True                   False   \n5                              False                   False   \n\n      Marital Status_Separated  Marital Status_Single  Marital Status_Widowed  \\\nrank                                                                            \n1                        False                  False                   False   \n2                        False                   True                   False   \n3                        False                  False                   False   \n4                        False                  False                   False   \n5                        False                  False                   False   \n\n      Marital Status_Widowed, Remarried  \nrank                                     \n1                                 False  \n2                                 False  \n3                                 False  \n4                                 False  \n5                                  True  \n\n[5 rows x 40 columns]",
      "text/html": "<div>\n<style scoped>\n    .dataframe tbody tr th:only-of-type {\n        vertical-align: middle;\n    }\n\n    .dataframe tbody tr th {\n        vertical-align: top;\n    }\n\n    .dataframe thead th {\n        text-align: right;\n    }\n</style>\n<table border=\"1\" class=\"dataframe\">\n  <thead>\n    <tr style=\"text-align: right;\">\n      <th></th>\n      <th>net_worth</th>\n      <th>age</th>\n      <th>age_range</th>\n      <th>industry</th>\n      <th>Age</th>\n      <th>Self-Made Score</th>\n      <th>Philanthropy Score</th>\n      <th>Marital Status</th>\n      <th>Children</th>\n      <th>Bachelor</th>\n      <th>...</th>\n      <th>industry_Technology</th>\n      <th>industry_Telecom</th>\n      <th>Marital Status_Divorced</th>\n      <th>Marital Status_Engaged</th>\n      <th>Marital Status_In Relationship</th>\n      <th>Marital Status_Married</th>\n      <th>Marital Status_Separated</th>\n      <th>Marital Status_Single</th>\n      <th>Marital Status_Widowed</th>\n      <th>Marital Status_Widowed, Remarried</th>\n    </tr>\n    <tr>\n      <th>rank</th>\n      <th></th>\n      <th></th>\n      <th></th>\n      <th></th>\n      <th></th>\n      <th></th>\n      <th></th>\n      <th></th>\n      <th></th>\n      <th></th>\n      <th></th>\n      <th></th>\n      <th></th>\n      <th></th>\n      <th></th>\n      <th></th>\n      <th></th>\n      <th></th>\n      <th></th>\n      <th></th>\n      <th></th>\n    </tr>\n  </thead>\n  <tbody>\n    <tr>\n      <th>1</th>\n      <td>211.0</td>\n      <td>74.0</td>\n      <td>8</td>\n      <td>Fashion &amp; Retail</td>\n      <td>74.0</td>\n      <td>NaN</td>\n      <td>NaN</td>\n      <td>Married</td>\n      <td>5.0</td>\n      <td>1.0</td>\n      <td>...</td>\n      <td>False</td>\n      <td>False</td>\n      <td>False</td>\n      <td>False</td>\n      <td>False</td>\n      <td>True</td>\n      <td>False</td>\n      <td>False</td>\n      <td>False</td>\n      <td>False</td>\n    </tr>\n    <tr>\n      <th>2</th>\n      <td>180.0</td>\n      <td>51.0</td>\n      <td>6</td>\n      <td>Automotive</td>\n      <td>52.0</td>\n      <td>8.0</td>\n      <td>1.0</td>\n      <td>Single</td>\n      <td>10.0</td>\n      <td>1.0</td>\n      <td>...</td>\n      <td>False</td>\n      <td>False</td>\n      <td>False</td>\n      <td>False</td>\n      <td>False</td>\n      <td>False</td>\n      <td>False</td>\n      <td>True</td>\n      <td>False</td>\n      <td>False</td>\n    </tr>\n    <tr>\n      <th>3</th>\n      <td>114.0</td>\n      <td>59.0</td>\n      <td>6</td>\n      <td>Technology</td>\n      <td>59.0</td>\n      <td>8.0</td>\n      <td>2.0</td>\n      <td>Engaged</td>\n      <td>4.0</td>\n      <td>1.0</td>\n      <td>...</td>\n      <td>True</td>\n      <td>False</td>\n      <td>False</td>\n      <td>True</td>\n      <td>False</td>\n      <td>False</td>\n      <td>False</td>\n      <td>False</td>\n      <td>False</td>\n      <td>False</td>\n    </tr>\n    <tr>\n      <th>4</th>\n      <td>107.0</td>\n      <td>78.0</td>\n      <td>8</td>\n      <td>Technology</td>\n      <td>79.0</td>\n      <td>9.0</td>\n      <td>1.0</td>\n      <td>In Relationship</td>\n      <td>4.0</td>\n      <td>0.0</td>\n      <td>...</td>\n      <td>True</td>\n      <td>False</td>\n      <td>False</td>\n      <td>False</td>\n      <td>True</td>\n      <td>False</td>\n      <td>False</td>\n      <td>False</td>\n      <td>False</td>\n      <td>False</td>\n    </tr>\n    <tr>\n      <th>5</th>\n      <td>106.0</td>\n      <td>92.0</td>\n      <td>10</td>\n      <td>Finance &amp; Investments</td>\n      <td>92.0</td>\n      <td>8.0</td>\n      <td>5.0</td>\n      <td>Widowed, Remarried</td>\n      <td>3.0</td>\n      <td>1.0</td>\n      <td>...</td>\n      <td>False</td>\n      <td>False</td>\n      <td>False</td>\n      <td>False</td>\n      <td>False</td>\n      <td>False</td>\n      <td>False</td>\n      <td>False</td>\n      <td>False</td>\n      <td>True</td>\n    </tr>\n  </tbody>\n</table>\n<p>5 rows × 40 columns</p>\n</div>"
     },
     "execution_count": 150,
     "metadata": {},
     "output_type": "execute_result"
    }
   ],
   "source": [
    "df_stats.head()"
   ],
   "metadata": {
    "collapsed": false,
    "ExecuteTime": {
     "end_time": "2023-11-05T02:39:52.396152Z",
     "start_time": "2023-11-05T02:39:52.369995Z"
    }
   },
   "id": "91f5837a622ebb48"
  },
  {
   "cell_type": "code",
   "execution_count": 151,
   "outputs": [],
   "source": [
    "# Get final list of object columns\n",
    "\n",
    "final_object_columns = df_stats.select_dtypes(include=['object']).columns.tolist()\n",
    "\n",
    "# Drop columns used to create dummies\n",
    "\n",
    "df_stats = df_stats.drop(final_object_columns, axis=1)\n",
    "\n",
    "# Drop NaN\n",
    "df_stats = df_stats.dropna()"
   ],
   "metadata": {
    "collapsed": false,
    "ExecuteTime": {
     "end_time": "2023-11-05T02:40:27.707257Z",
     "start_time": "2023-11-05T02:40:27.685124Z"
    }
   },
   "id": "c689f3da9d58df8f"
  },
  {
   "cell_type": "code",
   "execution_count": 152,
   "outputs": [
    {
     "data": {
      "text/plain": "      net_worth   age  age_range   Age  Self-Made Score  Philanthropy Score  \\\nrank                                                                          \n2         180.0  51.0          6  52.0              8.0                 1.0   \n3         114.0  59.0          6  59.0              8.0                 2.0   \n4         107.0  78.0          8  79.0              9.0                 1.0   \n5         106.0  92.0         10  92.0              8.0                 5.0   \n6         104.0  67.0          7  67.0              8.0                 5.0   \n\n      Children  Bachelor  Master  Doctorate  ...  industry_Technology  \\\nrank                                         ...                        \n2         10.0       1.0     0.0        0.0  ...                False   \n3          4.0       1.0     0.0        0.0  ...                 True   \n4          4.0       0.0     0.0        0.0  ...                 True   \n5          3.0       1.0     1.0        0.0  ...                False   \n6          3.0       0.0     0.0        0.0  ...                 True   \n\n      industry_Telecom  Marital Status_Divorced  Marital Status_Engaged  \\\nrank                                                                      \n2                False                    False                   False   \n3                False                    False                    True   \n4                False                    False                   False   \n5                False                    False                   False   \n6                False                     True                   False   \n\n      Marital Status_In Relationship  Marital Status_Married  \\\nrank                                                           \n2                              False                   False   \n3                              False                   False   \n4                               True                   False   \n5                              False                   False   \n6                              False                   False   \n\n      Marital Status_Separated  Marital Status_Single  Marital Status_Widowed  \\\nrank                                                                            \n2                        False                   True                   False   \n3                        False                  False                   False   \n4                        False                  False                   False   \n5                        False                  False                   False   \n6                        False                  False                   False   \n\n      Marital Status_Widowed, Remarried  \nrank                                     \n2                                 False  \n3                                 False  \n4                                 False  \n5                                  True  \n6                                 False  \n\n[5 rows x 38 columns]",
      "text/html": "<div>\n<style scoped>\n    .dataframe tbody tr th:only-of-type {\n        vertical-align: middle;\n    }\n\n    .dataframe tbody tr th {\n        vertical-align: top;\n    }\n\n    .dataframe thead th {\n        text-align: right;\n    }\n</style>\n<table border=\"1\" class=\"dataframe\">\n  <thead>\n    <tr style=\"text-align: right;\">\n      <th></th>\n      <th>net_worth</th>\n      <th>age</th>\n      <th>age_range</th>\n      <th>Age</th>\n      <th>Self-Made Score</th>\n      <th>Philanthropy Score</th>\n      <th>Children</th>\n      <th>Bachelor</th>\n      <th>Master</th>\n      <th>Doctorate</th>\n      <th>...</th>\n      <th>industry_Technology</th>\n      <th>industry_Telecom</th>\n      <th>Marital Status_Divorced</th>\n      <th>Marital Status_Engaged</th>\n      <th>Marital Status_In Relationship</th>\n      <th>Marital Status_Married</th>\n      <th>Marital Status_Separated</th>\n      <th>Marital Status_Single</th>\n      <th>Marital Status_Widowed</th>\n      <th>Marital Status_Widowed, Remarried</th>\n    </tr>\n    <tr>\n      <th>rank</th>\n      <th></th>\n      <th></th>\n      <th></th>\n      <th></th>\n      <th></th>\n      <th></th>\n      <th></th>\n      <th></th>\n      <th></th>\n      <th></th>\n      <th></th>\n      <th></th>\n      <th></th>\n      <th></th>\n      <th></th>\n      <th></th>\n      <th></th>\n      <th></th>\n      <th></th>\n      <th></th>\n      <th></th>\n    </tr>\n  </thead>\n  <tbody>\n    <tr>\n      <th>2</th>\n      <td>180.0</td>\n      <td>51.0</td>\n      <td>6</td>\n      <td>52.0</td>\n      <td>8.0</td>\n      <td>1.0</td>\n      <td>10.0</td>\n      <td>1.0</td>\n      <td>0.0</td>\n      <td>0.0</td>\n      <td>...</td>\n      <td>False</td>\n      <td>False</td>\n      <td>False</td>\n      <td>False</td>\n      <td>False</td>\n      <td>False</td>\n      <td>False</td>\n      <td>True</td>\n      <td>False</td>\n      <td>False</td>\n    </tr>\n    <tr>\n      <th>3</th>\n      <td>114.0</td>\n      <td>59.0</td>\n      <td>6</td>\n      <td>59.0</td>\n      <td>8.0</td>\n      <td>2.0</td>\n      <td>4.0</td>\n      <td>1.0</td>\n      <td>0.0</td>\n      <td>0.0</td>\n      <td>...</td>\n      <td>True</td>\n      <td>False</td>\n      <td>False</td>\n      <td>True</td>\n      <td>False</td>\n      <td>False</td>\n      <td>False</td>\n      <td>False</td>\n      <td>False</td>\n      <td>False</td>\n    </tr>\n    <tr>\n      <th>4</th>\n      <td>107.0</td>\n      <td>78.0</td>\n      <td>8</td>\n      <td>79.0</td>\n      <td>9.0</td>\n      <td>1.0</td>\n      <td>4.0</td>\n      <td>0.0</td>\n      <td>0.0</td>\n      <td>0.0</td>\n      <td>...</td>\n      <td>True</td>\n      <td>False</td>\n      <td>False</td>\n      <td>False</td>\n      <td>True</td>\n      <td>False</td>\n      <td>False</td>\n      <td>False</td>\n      <td>False</td>\n      <td>False</td>\n    </tr>\n    <tr>\n      <th>5</th>\n      <td>106.0</td>\n      <td>92.0</td>\n      <td>10</td>\n      <td>92.0</td>\n      <td>8.0</td>\n      <td>5.0</td>\n      <td>3.0</td>\n      <td>1.0</td>\n      <td>1.0</td>\n      <td>0.0</td>\n      <td>...</td>\n      <td>False</td>\n      <td>False</td>\n      <td>False</td>\n      <td>False</td>\n      <td>False</td>\n      <td>False</td>\n      <td>False</td>\n      <td>False</td>\n      <td>False</td>\n      <td>True</td>\n    </tr>\n    <tr>\n      <th>6</th>\n      <td>104.0</td>\n      <td>67.0</td>\n      <td>7</td>\n      <td>67.0</td>\n      <td>8.0</td>\n      <td>5.0</td>\n      <td>3.0</td>\n      <td>0.0</td>\n      <td>0.0</td>\n      <td>0.0</td>\n      <td>...</td>\n      <td>True</td>\n      <td>False</td>\n      <td>True</td>\n      <td>False</td>\n      <td>False</td>\n      <td>False</td>\n      <td>False</td>\n      <td>False</td>\n      <td>False</td>\n      <td>False</td>\n    </tr>\n  </tbody>\n</table>\n<p>5 rows × 38 columns</p>\n</div>"
     },
     "execution_count": 152,
     "metadata": {},
     "output_type": "execute_result"
    }
   ],
   "source": [
    "df_stats.head()"
   ],
   "metadata": {
    "collapsed": false,
    "ExecuteTime": {
     "end_time": "2023-11-05T02:40:29.862491Z",
     "start_time": "2023-11-05T02:40:29.832116Z"
    }
   },
   "id": "a6971fe198bf89b9"
  },
  {
   "cell_type": "code",
   "execution_count": 121,
   "outputs": [],
   "source": [
    "X = df_stats.drop('net_worth', axis=1)\n",
    "y = df_stats['net_worth']"
   ],
   "metadata": {
    "collapsed": false,
    "ExecuteTime": {
     "end_time": "2023-11-03T04:14:54.861540Z",
     "start_time": "2023-11-03T04:14:54.857736Z"
    }
   },
   "id": "9d2aae07"
  },
  {
   "cell_type": "code",
   "execution_count": 122,
   "outputs": [
    {
     "name": "stdout",
     "output_type": "stream",
     "text": [
      "net_worth                              float64\n",
      "age                                    float64\n",
      "age_range                                int64\n",
      "Age                                    float64\n",
      "Self-Made Score                        float64\n",
      "Philanthropy Score                     float64\n",
      "Children                               float64\n",
      "Bachelor                               float64\n",
      "Master                                 float64\n",
      "Doctorate                              float64\n",
      "Drop Out                               float64\n",
      "Self Made                                int64\n",
      "industry_Automotive                       bool\n",
      "industry_Construction & Engineering       bool\n",
      "industry_Diversified                      bool\n",
      "industry_Energy                           bool\n",
      "industry_Fashion & Retail                 bool\n",
      "industry_Finance & Investments            bool\n",
      "industry_Food & Beverage                  bool\n",
      "industry_Gambling & Casinos               bool\n",
      "industry_Healthcare                       bool\n",
      "industry_Logistics                        bool\n",
      "industry_Manufacturing                    bool\n",
      "industry_Media & Entertainment            bool\n",
      "industry_Metals & Mining                  bool\n",
      "industry_Real Estate                      bool\n",
      "industry_Service                          bool\n",
      "industry_Sports                           bool\n",
      "industry_Technology                       bool\n",
      "industry_Telecom                          bool\n",
      "Marital Status_Divorced                   bool\n",
      "Marital Status_Engaged                    bool\n",
      "Marital Status_In Relationship            bool\n",
      "Marital Status_Married                    bool\n",
      "Marital Status_Separated                  bool\n",
      "Marital Status_Single                     bool\n",
      "Marital Status_Widowed                    bool\n",
      "Marital Status_Widowed, Remarried         bool\n",
      "dtype: object\n"
     ]
    }
   ],
   "source": [
    "print(df_stats.dtypes)"
   ],
   "metadata": {
    "collapsed": false,
    "ExecuteTime": {
     "end_time": "2023-11-03T04:14:56.233718Z",
     "start_time": "2023-11-03T04:14:56.215585Z"
    }
   },
   "id": "35fc316ef3bbab7b"
  },
  {
   "cell_type": "code",
   "execution_count": 123,
   "outputs": [
    {
     "name": "stdout",
     "output_type": "stream",
     "text": [
      "[]\n"
     ]
    }
   ],
   "source": [
    "# Get final final list of object columns\n",
    "\n",
    "final_final_object_columns = df_stats.select_dtypes(include=['object']).columns.tolist()\n",
    "print(final_final_object_columns)"
   ],
   "metadata": {
    "collapsed": false,
    "ExecuteTime": {
     "end_time": "2023-11-03T04:15:05.435159Z",
     "start_time": "2023-11-03T04:15:05.411960Z"
    }
   },
   "id": "86a227e89a66889f"
  },
  {
   "cell_type": "code",
   "execution_count": 124,
   "outputs": [],
   "source": [
    "# Add a constant (intercept) to the DataFrame\n",
    "df_stats = sm.add_constant(df_stats)\n",
    "\n",
    "# Create the multiple linear regression model\n",
    "X = df_stats.drop('net_worth', axis = 1) #keep features only for X\n",
    "y = df_stats['net_worth'] #keep target variable only for y\n",
    "X_train, X_test, y_train, y_test = train_test_split(X, y, test_size = 0.2, random_state = 42)"
   ],
   "metadata": {
    "collapsed": false,
    "ExecuteTime": {
     "end_time": "2023-11-03T04:15:08.171022Z",
     "start_time": "2023-11-03T04:15:08.154046Z"
    }
   },
   "id": "d1d9a8be2f1b1ab2"
  },
  {
   "cell_type": "code",
   "execution_count": 125,
   "outputs": [],
   "source": [
    "sc = StandardScaler()\n",
    "# fit the data i.e. calculate the mean and sd of each column of X_train\n",
    "sc.fit(X_train)\n",
    "\n",
    "#transform the train data\n",
    "X_train_sc = sc.transform(X_train)\n",
    "X_train_sc = pd.DataFrame(X_train_sc, columns=X_train.columns)\n",
    "\n",
    "#transform the test data\n",
    "X_test_sc = sc.transform(X_test)\n",
    "X_test_sc = pd.DataFrame(X_test_sc, columns=X_test.columns)"
   ],
   "metadata": {
    "collapsed": false,
    "ExecuteTime": {
     "end_time": "2023-11-03T04:15:09.317845Z",
     "start_time": "2023-11-03T04:15:09.296634Z"
    }
   },
   "id": "c691490144c836f0"
  },
  {
   "cell_type": "code",
   "execution_count": 126,
   "outputs": [
    {
     "data": {
      "text/plain": "<class 'statsmodels.iolib.summary.Summary'>\n\"\"\"\n                            OLS Regression Results                            \n==============================================================================\nDep. Variable:                      y   R-squared:                       0.533\nModel:                            OLS   Adj. R-squared:                  0.460\nMethod:                 Least Squares   F-statistic:                     7.341\nDate:                Thu, 02 Nov 2023   Prob (F-statistic):           2.15e-21\nTime:                        23:15:10   Log-Likelihood:                -1009.4\nNo. Observations:                 254   AIC:                             2089.\nDf Residuals:                     219   BIC:                             2213.\nDf Model:                          34                                         \nCovariance Type:            nonrobust                                         \n=======================================================================================================\n                                          coef    std err          t      P>|t|      [0.025      0.975]\n-------------------------------------------------------------------------------------------------------\nconst                                   9.5402      0.870     10.970      0.000       7.826      11.254\nconst                                4.276e-14   6.81e-14      0.628      0.531   -9.14e-14    1.77e-13\nage                                   -14.9406     21.781     -0.686      0.493     -57.868      27.987\nage_range                               1.6074      3.716      0.433      0.666      -5.717       8.932\nAge                                    12.6941     21.715      0.585      0.559     -30.103      55.491\nSelf-Made Score                        -2.0252      2.277     -0.889      0.375      -6.514       2.463\nPhilanthropy Score                      0.4585      0.942      0.487      0.627      -1.398       2.315\nChildren                                3.0814      0.992      3.106      0.002       1.126       5.037\nBachelor                                1.6672      1.399      1.192      0.235      -1.090       4.425\nMaster                                  0.2938      0.968      0.304      0.762      -1.614       2.201\nDoctorate                               0.2473      0.933      0.265      0.791      -1.591       2.086\nDrop Out                                3.0357      1.307      2.323      0.021       0.460       5.612\nSelf Made                               2.2983      2.246      1.023      0.307      -2.128       6.724\nindustry_Automotive                     1.8228      0.926      1.969      0.050      -0.002       3.647\nindustry_Construction & Engineering     0.0318      0.898      0.035      0.972      -1.738       1.802\nindustry_Diversified                    3.4404      0.878      3.919      0.000       1.710       5.171\nindustry_Energy                        -0.3283      0.849     -0.387      0.699      -2.002       1.345\nindustry_Fashion & Retail               2.1149      0.858      2.465      0.014       0.424       3.806\nindustry_Finance & Investments         -0.5989      0.715     -0.838      0.403      -2.008       0.810\nindustry_Food & Beverage               -1.3350      0.861     -1.551      0.122      -3.032       0.362\nindustry_Gambling & Casinos             0.3886      0.873      0.445      0.657      -1.332       2.109\nindustry_Healthcare                    -1.2220      0.869     -1.407      0.161      -2.934       0.490\nindustry_Logistics                     -0.9403      0.920     -1.022      0.308      -2.754       0.873\nindustry_Manufacturing                 -0.5484      0.871     -0.630      0.530      -2.265       1.168\nindustry_Media & Entertainment         -1.0592      0.857     -1.236      0.218      -2.748       0.630\nindustry_Metals & Mining             1.324e-15   1.21e-15      1.095      0.275   -1.06e-15    3.71e-15\nindustry_Real Estate                   -0.6900      0.855     -0.807      0.421      -2.375       0.995\nindustry_Service                       -0.4915      0.867     -0.567      0.571      -2.201       1.218\nindustry_Sports                        -0.3606      0.855     -0.422      0.674      -2.046       1.325\nindustry_Technology                     0.9568      0.874      1.095      0.275      -0.766       2.679\nindustry_Telecom                        0.2846      0.882      0.323      0.747      -1.453       2.022\nMarital Status_Divorced                -0.3040      0.708     -0.429      0.668      -1.699       1.091\nMarital Status_Engaged                  6.0639      0.879      6.902      0.000       4.332       7.796\nMarital Status_In Relationship          5.3438      0.900      5.936      0.000       3.570       7.118\nMarital Status_Married                 -2.3923      0.523     -4.577      0.000      -3.422      -1.362\nMarital Status_Separated                2.5482      0.887      2.873      0.004       0.800       4.296\nMarital Status_Single                   6.1619      0.936      6.586      0.000       4.318       8.006\nMarital Status_Widowed                 -1.0223      0.852     -1.200      0.231      -2.701       0.656\nMarital Status_Widowed, Remarried      -1.5857      0.900     -1.761      0.080      -3.360       0.189\n==============================================================================\nOmnibus:                      140.172   Durbin-Watson:                   2.156\nProb(Omnibus):                  0.000   Jarque-Bera (JB):             2444.643\nSkew:                           1.761   Prob(JB):                         0.00\nKurtosis:                      17.785   Cond. No.                     2.59e+16\n==============================================================================\n\nNotes:\n[1] Standard Errors assume that the covariance matrix of the errors is correctly specified.\n[2] The smallest eigenvalue is 1.34e-30. This might indicate that there are\nstrong multicollinearity problems or that the design matrix is singular.\n\"\"\"",
      "text/html": "<table class=\"simpletable\">\n<caption>OLS Regression Results</caption>\n<tr>\n  <th>Dep. Variable:</th>            <td>y</td>        <th>  R-squared:         </th> <td>   0.533</td>\n</tr>\n<tr>\n  <th>Model:</th>                   <td>OLS</td>       <th>  Adj. R-squared:    </th> <td>   0.460</td>\n</tr>\n<tr>\n  <th>Method:</th>             <td>Least Squares</td>  <th>  F-statistic:       </th> <td>   7.341</td>\n</tr>\n<tr>\n  <th>Date:</th>             <td>Thu, 02 Nov 2023</td> <th>  Prob (F-statistic):</th> <td>2.15e-21</td>\n</tr>\n<tr>\n  <th>Time:</th>                 <td>23:15:10</td>     <th>  Log-Likelihood:    </th> <td> -1009.4</td>\n</tr>\n<tr>\n  <th>No. Observations:</th>      <td>   254</td>      <th>  AIC:               </th> <td>   2089.</td>\n</tr>\n<tr>\n  <th>Df Residuals:</th>          <td>   219</td>      <th>  BIC:               </th> <td>   2213.</td>\n</tr>\n<tr>\n  <th>Df Model:</th>              <td>    34</td>      <th>                     </th>     <td> </td>   \n</tr>\n<tr>\n  <th>Covariance Type:</th>      <td>nonrobust</td>    <th>                     </th>     <td> </td>   \n</tr>\n</table>\n<table class=\"simpletable\">\n<tr>\n                   <td></td>                      <th>coef</th>     <th>std err</th>      <th>t</th>      <th>P>|t|</th>  <th>[0.025</th>    <th>0.975]</th>  \n</tr>\n<tr>\n  <th>const</th>                               <td>    9.5402</td> <td>    0.870</td> <td>   10.970</td> <td> 0.000</td> <td>    7.826</td> <td>   11.254</td>\n</tr>\n<tr>\n  <th>const</th>                               <td> 4.276e-14</td> <td> 6.81e-14</td> <td>    0.628</td> <td> 0.531</td> <td>-9.14e-14</td> <td> 1.77e-13</td>\n</tr>\n<tr>\n  <th>age</th>                                 <td>  -14.9406</td> <td>   21.781</td> <td>   -0.686</td> <td> 0.493</td> <td>  -57.868</td> <td>   27.987</td>\n</tr>\n<tr>\n  <th>age_range</th>                           <td>    1.6074</td> <td>    3.716</td> <td>    0.433</td> <td> 0.666</td> <td>   -5.717</td> <td>    8.932</td>\n</tr>\n<tr>\n  <th>Age</th>                                 <td>   12.6941</td> <td>   21.715</td> <td>    0.585</td> <td> 0.559</td> <td>  -30.103</td> <td>   55.491</td>\n</tr>\n<tr>\n  <th>Self-Made Score</th>                     <td>   -2.0252</td> <td>    2.277</td> <td>   -0.889</td> <td> 0.375</td> <td>   -6.514</td> <td>    2.463</td>\n</tr>\n<tr>\n  <th>Philanthropy Score</th>                  <td>    0.4585</td> <td>    0.942</td> <td>    0.487</td> <td> 0.627</td> <td>   -1.398</td> <td>    2.315</td>\n</tr>\n<tr>\n  <th>Children</th>                            <td>    3.0814</td> <td>    0.992</td> <td>    3.106</td> <td> 0.002</td> <td>    1.126</td> <td>    5.037</td>\n</tr>\n<tr>\n  <th>Bachelor</th>                            <td>    1.6672</td> <td>    1.399</td> <td>    1.192</td> <td> 0.235</td> <td>   -1.090</td> <td>    4.425</td>\n</tr>\n<tr>\n  <th>Master</th>                              <td>    0.2938</td> <td>    0.968</td> <td>    0.304</td> <td> 0.762</td> <td>   -1.614</td> <td>    2.201</td>\n</tr>\n<tr>\n  <th>Doctorate</th>                           <td>    0.2473</td> <td>    0.933</td> <td>    0.265</td> <td> 0.791</td> <td>   -1.591</td> <td>    2.086</td>\n</tr>\n<tr>\n  <th>Drop Out</th>                            <td>    3.0357</td> <td>    1.307</td> <td>    2.323</td> <td> 0.021</td> <td>    0.460</td> <td>    5.612</td>\n</tr>\n<tr>\n  <th>Self Made</th>                           <td>    2.2983</td> <td>    2.246</td> <td>    1.023</td> <td> 0.307</td> <td>   -2.128</td> <td>    6.724</td>\n</tr>\n<tr>\n  <th>industry_Automotive</th>                 <td>    1.8228</td> <td>    0.926</td> <td>    1.969</td> <td> 0.050</td> <td>   -0.002</td> <td>    3.647</td>\n</tr>\n<tr>\n  <th>industry_Construction & Engineering</th> <td>    0.0318</td> <td>    0.898</td> <td>    0.035</td> <td> 0.972</td> <td>   -1.738</td> <td>    1.802</td>\n</tr>\n<tr>\n  <th>industry_Diversified</th>                <td>    3.4404</td> <td>    0.878</td> <td>    3.919</td> <td> 0.000</td> <td>    1.710</td> <td>    5.171</td>\n</tr>\n<tr>\n  <th>industry_Energy</th>                     <td>   -0.3283</td> <td>    0.849</td> <td>   -0.387</td> <td> 0.699</td> <td>   -2.002</td> <td>    1.345</td>\n</tr>\n<tr>\n  <th>industry_Fashion & Retail</th>           <td>    2.1149</td> <td>    0.858</td> <td>    2.465</td> <td> 0.014</td> <td>    0.424</td> <td>    3.806</td>\n</tr>\n<tr>\n  <th>industry_Finance & Investments</th>      <td>   -0.5989</td> <td>    0.715</td> <td>   -0.838</td> <td> 0.403</td> <td>   -2.008</td> <td>    0.810</td>\n</tr>\n<tr>\n  <th>industry_Food & Beverage</th>            <td>   -1.3350</td> <td>    0.861</td> <td>   -1.551</td> <td> 0.122</td> <td>   -3.032</td> <td>    0.362</td>\n</tr>\n<tr>\n  <th>industry_Gambling & Casinos</th>         <td>    0.3886</td> <td>    0.873</td> <td>    0.445</td> <td> 0.657</td> <td>   -1.332</td> <td>    2.109</td>\n</tr>\n<tr>\n  <th>industry_Healthcare</th>                 <td>   -1.2220</td> <td>    0.869</td> <td>   -1.407</td> <td> 0.161</td> <td>   -2.934</td> <td>    0.490</td>\n</tr>\n<tr>\n  <th>industry_Logistics</th>                  <td>   -0.9403</td> <td>    0.920</td> <td>   -1.022</td> <td> 0.308</td> <td>   -2.754</td> <td>    0.873</td>\n</tr>\n<tr>\n  <th>industry_Manufacturing</th>              <td>   -0.5484</td> <td>    0.871</td> <td>   -0.630</td> <td> 0.530</td> <td>   -2.265</td> <td>    1.168</td>\n</tr>\n<tr>\n  <th>industry_Media & Entertainment</th>      <td>   -1.0592</td> <td>    0.857</td> <td>   -1.236</td> <td> 0.218</td> <td>   -2.748</td> <td>    0.630</td>\n</tr>\n<tr>\n  <th>industry_Metals & Mining</th>            <td> 1.324e-15</td> <td> 1.21e-15</td> <td>    1.095</td> <td> 0.275</td> <td>-1.06e-15</td> <td> 3.71e-15</td>\n</tr>\n<tr>\n  <th>industry_Real Estate</th>                <td>   -0.6900</td> <td>    0.855</td> <td>   -0.807</td> <td> 0.421</td> <td>   -2.375</td> <td>    0.995</td>\n</tr>\n<tr>\n  <th>industry_Service</th>                    <td>   -0.4915</td> <td>    0.867</td> <td>   -0.567</td> <td> 0.571</td> <td>   -2.201</td> <td>    1.218</td>\n</tr>\n<tr>\n  <th>industry_Sports</th>                     <td>   -0.3606</td> <td>    0.855</td> <td>   -0.422</td> <td> 0.674</td> <td>   -2.046</td> <td>    1.325</td>\n</tr>\n<tr>\n  <th>industry_Technology</th>                 <td>    0.9568</td> <td>    0.874</td> <td>    1.095</td> <td> 0.275</td> <td>   -0.766</td> <td>    2.679</td>\n</tr>\n<tr>\n  <th>industry_Telecom</th>                    <td>    0.2846</td> <td>    0.882</td> <td>    0.323</td> <td> 0.747</td> <td>   -1.453</td> <td>    2.022</td>\n</tr>\n<tr>\n  <th>Marital Status_Divorced</th>             <td>   -0.3040</td> <td>    0.708</td> <td>   -0.429</td> <td> 0.668</td> <td>   -1.699</td> <td>    1.091</td>\n</tr>\n<tr>\n  <th>Marital Status_Engaged</th>              <td>    6.0639</td> <td>    0.879</td> <td>    6.902</td> <td> 0.000</td> <td>    4.332</td> <td>    7.796</td>\n</tr>\n<tr>\n  <th>Marital Status_In Relationship</th>      <td>    5.3438</td> <td>    0.900</td> <td>    5.936</td> <td> 0.000</td> <td>    3.570</td> <td>    7.118</td>\n</tr>\n<tr>\n  <th>Marital Status_Married</th>              <td>   -2.3923</td> <td>    0.523</td> <td>   -4.577</td> <td> 0.000</td> <td>   -3.422</td> <td>   -1.362</td>\n</tr>\n<tr>\n  <th>Marital Status_Separated</th>            <td>    2.5482</td> <td>    0.887</td> <td>    2.873</td> <td> 0.004</td> <td>    0.800</td> <td>    4.296</td>\n</tr>\n<tr>\n  <th>Marital Status_Single</th>               <td>    6.1619</td> <td>    0.936</td> <td>    6.586</td> <td> 0.000</td> <td>    4.318</td> <td>    8.006</td>\n</tr>\n<tr>\n  <th>Marital Status_Widowed</th>              <td>   -1.0223</td> <td>    0.852</td> <td>   -1.200</td> <td> 0.231</td> <td>   -2.701</td> <td>    0.656</td>\n</tr>\n<tr>\n  <th>Marital Status_Widowed, Remarried</th>   <td>   -1.5857</td> <td>    0.900</td> <td>   -1.761</td> <td> 0.080</td> <td>   -3.360</td> <td>    0.189</td>\n</tr>\n</table>\n<table class=\"simpletable\">\n<tr>\n  <th>Omnibus:</th>       <td>140.172</td> <th>  Durbin-Watson:     </th> <td>   2.156</td>\n</tr>\n<tr>\n  <th>Prob(Omnibus):</th> <td> 0.000</td>  <th>  Jarque-Bera (JB):  </th> <td>2444.643</td>\n</tr>\n<tr>\n  <th>Skew:</th>          <td> 1.761</td>  <th>  Prob(JB):          </th> <td>    0.00</td>\n</tr>\n<tr>\n  <th>Kurtosis:</th>      <td>17.785</td>  <th>  Cond. No.          </th> <td>2.59e+16</td>\n</tr>\n</table><br/><br/>Notes:<br/>[1] Standard Errors assume that the covariance matrix of the errors is correctly specified.<br/>[2] The smallest eigenvalue is 1.34e-30. This might indicate that there are<br/>strong multicollinearity problems or that the design matrix is singular.",
      "text/latex": "\\begin{center}\n\\begin{tabular}{lclc}\n\\toprule\n\\textbf{Dep. Variable:}                        &        y         & \\textbf{  R-squared:         } &     0.533   \\\\\n\\textbf{Model:}                                &       OLS        & \\textbf{  Adj. R-squared:    } &     0.460   \\\\\n\\textbf{Method:}                               &  Least Squares   & \\textbf{  F-statistic:       } &     7.341   \\\\\n\\textbf{Date:}                                 & Thu, 02 Nov 2023 & \\textbf{  Prob (F-statistic):} &  2.15e-21   \\\\\n\\textbf{Time:}                                 &     23:15:10     & \\textbf{  Log-Likelihood:    } &   -1009.4   \\\\\n\\textbf{No. Observations:}                     &         254      & \\textbf{  AIC:               } &     2089.   \\\\\n\\textbf{Df Residuals:}                         &         219      & \\textbf{  BIC:               } &     2213.   \\\\\n\\textbf{Df Model:}                             &          34      & \\textbf{                     } &             \\\\\n\\textbf{Covariance Type:}                      &    nonrobust     & \\textbf{                     } &             \\\\\n\\bottomrule\n\\end{tabular}\n\\begin{tabular}{lcccccc}\n                                               & \\textbf{coef} & \\textbf{std err} & \\textbf{t} & \\textbf{P$> |$t$|$} & \\textbf{[0.025} & \\textbf{0.975]}  \\\\\n\\midrule\n\\textbf{const}                                 &       9.5402  &        0.870     &    10.970  &         0.000        &        7.826    &       11.254     \\\\\n\\textbf{const}                                 &    4.276e-14  &     6.81e-14     &     0.628  &         0.531        &    -9.14e-14    &     1.77e-13     \\\\\n\\textbf{age}                                   &     -14.9406  &       21.781     &    -0.686  &         0.493        &      -57.868    &       27.987     \\\\\n\\textbf{age\\_range}                            &       1.6074  &        3.716     &     0.433  &         0.666        &       -5.717    &        8.932     \\\\\n\\textbf{Age}                                   &      12.6941  &       21.715     &     0.585  &         0.559        &      -30.103    &       55.491     \\\\\n\\textbf{Self-Made Score}                       &      -2.0252  &        2.277     &    -0.889  &         0.375        &       -6.514    &        2.463     \\\\\n\\textbf{Philanthropy Score}                    &       0.4585  &        0.942     &     0.487  &         0.627        &       -1.398    &        2.315     \\\\\n\\textbf{Children}                              &       3.0814  &        0.992     &     3.106  &         0.002        &        1.126    &        5.037     \\\\\n\\textbf{Bachelor}                              &       1.6672  &        1.399     &     1.192  &         0.235        &       -1.090    &        4.425     \\\\\n\\textbf{Master}                                &       0.2938  &        0.968     &     0.304  &         0.762        &       -1.614    &        2.201     \\\\\n\\textbf{Doctorate}                             &       0.2473  &        0.933     &     0.265  &         0.791        &       -1.591    &        2.086     \\\\\n\\textbf{Drop Out}                              &       3.0357  &        1.307     &     2.323  &         0.021        &        0.460    &        5.612     \\\\\n\\textbf{Self Made}                             &       2.2983  &        2.246     &     1.023  &         0.307        &       -2.128    &        6.724     \\\\\n\\textbf{industry\\_Automotive}                  &       1.8228  &        0.926     &     1.969  &         0.050        &       -0.002    &        3.647     \\\\\n\\textbf{industry\\_Construction \\& Engineering} &       0.0318  &        0.898     &     0.035  &         0.972        &       -1.738    &        1.802     \\\\\n\\textbf{industry\\_Diversified}                 &       3.4404  &        0.878     &     3.919  &         0.000        &        1.710    &        5.171     \\\\\n\\textbf{industry\\_Energy}                      &      -0.3283  &        0.849     &    -0.387  &         0.699        &       -2.002    &        1.345     \\\\\n\\textbf{industry\\_Fashion \\& Retail}           &       2.1149  &        0.858     &     2.465  &         0.014        &        0.424    &        3.806     \\\\\n\\textbf{industry\\_Finance \\& Investments}      &      -0.5989  &        0.715     &    -0.838  &         0.403        &       -2.008    &        0.810     \\\\\n\\textbf{industry\\_Food \\& Beverage}            &      -1.3350  &        0.861     &    -1.551  &         0.122        &       -3.032    &        0.362     \\\\\n\\textbf{industry\\_Gambling \\& Casinos}         &       0.3886  &        0.873     &     0.445  &         0.657        &       -1.332    &        2.109     \\\\\n\\textbf{industry\\_Healthcare}                  &      -1.2220  &        0.869     &    -1.407  &         0.161        &       -2.934    &        0.490     \\\\\n\\textbf{industry\\_Logistics}                   &      -0.9403  &        0.920     &    -1.022  &         0.308        &       -2.754    &        0.873     \\\\\n\\textbf{industry\\_Manufacturing}               &      -0.5484  &        0.871     &    -0.630  &         0.530        &       -2.265    &        1.168     \\\\\n\\textbf{industry\\_Media \\& Entertainment}      &      -1.0592  &        0.857     &    -1.236  &         0.218        &       -2.748    &        0.630     \\\\\n\\textbf{industry\\_Metals \\& Mining}            &    1.324e-15  &     1.21e-15     &     1.095  &         0.275        &    -1.06e-15    &     3.71e-15     \\\\\n\\textbf{industry\\_Real Estate}                 &      -0.6900  &        0.855     &    -0.807  &         0.421        &       -2.375    &        0.995     \\\\\n\\textbf{industry\\_Service}                     &      -0.4915  &        0.867     &    -0.567  &         0.571        &       -2.201    &        1.218     \\\\\n\\textbf{industry\\_Sports}                      &      -0.3606  &        0.855     &    -0.422  &         0.674        &       -2.046    &        1.325     \\\\\n\\textbf{industry\\_Technology}                  &       0.9568  &        0.874     &     1.095  &         0.275        &       -0.766    &        2.679     \\\\\n\\textbf{industry\\_Telecom}                     &       0.2846  &        0.882     &     0.323  &         0.747        &       -1.453    &        2.022     \\\\\n\\textbf{Marital Status\\_Divorced}              &      -0.3040  &        0.708     &    -0.429  &         0.668        &       -1.699    &        1.091     \\\\\n\\textbf{Marital Status\\_Engaged}               &       6.0639  &        0.879     &     6.902  &         0.000        &        4.332    &        7.796     \\\\\n\\textbf{Marital Status\\_In Relationship}       &       5.3438  &        0.900     &     5.936  &         0.000        &        3.570    &        7.118     \\\\\n\\textbf{Marital Status\\_Married}               &      -2.3923  &        0.523     &    -4.577  &         0.000        &       -3.422    &       -1.362     \\\\\n\\textbf{Marital Status\\_Separated}             &       2.5482  &        0.887     &     2.873  &         0.004        &        0.800    &        4.296     \\\\\n\\textbf{Marital Status\\_Single}                &       6.1619  &        0.936     &     6.586  &         0.000        &        4.318    &        8.006     \\\\\n\\textbf{Marital Status\\_Widowed}               &      -1.0223  &        0.852     &    -1.200  &         0.231        &       -2.701    &        0.656     \\\\\n\\textbf{Marital Status\\_Widowed, Remarried}    &      -1.5857  &        0.900     &    -1.761  &         0.080        &       -3.360    &        0.189     \\\\\n\\bottomrule\n\\end{tabular}\n\\begin{tabular}{lclc}\n\\textbf{Omnibus:}       & 140.172 & \\textbf{  Durbin-Watson:     } &    2.156  \\\\\n\\textbf{Prob(Omnibus):} &   0.000 & \\textbf{  Jarque-Bera (JB):  } & 2444.643  \\\\\n\\textbf{Skew:}          &   1.761 & \\textbf{  Prob(JB):          } &     0.00  \\\\\n\\textbf{Kurtosis:}      &  17.785 & \\textbf{  Cond. No.          } & 2.59e+16  \\\\\n\\bottomrule\n\\end{tabular}\n%\\caption{OLS Regression Results}\n\\end{center}\n\nNotes: \\newline\n [1] Standard Errors assume that the covariance matrix of the errors is correctly specified. \\newline\n [2] The smallest eigenvalue is 1.34e-30. This might indicate that there are \\newline\n strong multicollinearity problems or that the design matrix is singular."
     },
     "execution_count": 126,
     "metadata": {},
     "output_type": "execute_result"
    }
   ],
   "source": [
    "X_reg = sm.add_constant(X_train_sc) # adding a constant\n",
    "reg1 = sm.OLS(np.asarray(y_train), X_reg).fit() \n",
    "pred = reg1.predict(X_reg) \n",
    "\n",
    "reg1.summary()"
   ],
   "metadata": {
    "collapsed": false,
    "ExecuteTime": {
     "end_time": "2023-11-03T04:15:10.859419Z",
     "start_time": "2023-11-03T04:15:10.781042Z"
    }
   },
   "id": "83c98d943fea239"
  },
  {
   "cell_type": "code",
   "execution_count": 127,
   "outputs": [
    {
     "data": {
      "text/plain": "                         Variable_Names  MultiReg_coeff\n0                                 const            9.54\n1                                 const            0.00\n2                                   age          -14.94\n3                             age_range            1.61\n4                                   Age           12.69\n5                       Self-Made Score           -2.03\n6                    Philanthropy Score            0.46\n7                              Children            3.08\n8                              Bachelor            1.67\n9                                Master            0.29\n10                            Doctorate            0.25\n11                             Drop Out            3.04\n12                            Self Made            2.30\n13                  industry_Automotive            1.82\n14  industry_Construction & Engineering            0.03\n15                 industry_Diversified            3.44\n16                      industry_Energy           -0.33\n17            industry_Fashion & Retail            2.11\n18       industry_Finance & Investments           -0.60\n19             industry_Food & Beverage           -1.33\n20          industry_Gambling & Casinos            0.39\n21                  industry_Healthcare           -1.22\n22                   industry_Logistics           -0.94\n23               industry_Manufacturing           -0.55\n24       industry_Media & Entertainment           -1.06\n25             industry_Metals & Mining            0.00\n26                 industry_Real Estate           -0.69\n27                     industry_Service           -0.49\n28                      industry_Sports           -0.36\n29                  industry_Technology            0.96\n30                     industry_Telecom            0.28\n31              Marital Status_Divorced           -0.30\n32               Marital Status_Engaged            6.06\n33       Marital Status_In Relationship            5.34\n34               Marital Status_Married           -2.39\n35             Marital Status_Separated            2.55\n36                Marital Status_Single            6.16\n37               Marital Status_Widowed           -1.02\n38    Marital Status_Widowed, Remarried           -1.59",
      "text/html": "<div>\n<style scoped>\n    .dataframe tbody tr th:only-of-type {\n        vertical-align: middle;\n    }\n\n    .dataframe tbody tr th {\n        vertical-align: top;\n    }\n\n    .dataframe thead th {\n        text-align: right;\n    }\n</style>\n<table border=\"1\" class=\"dataframe\">\n  <thead>\n    <tr style=\"text-align: right;\">\n      <th></th>\n      <th>Variable_Names</th>\n      <th>MultiReg_coeff</th>\n    </tr>\n  </thead>\n  <tbody>\n    <tr>\n      <th>0</th>\n      <td>const</td>\n      <td>9.54</td>\n    </tr>\n    <tr>\n      <th>1</th>\n      <td>const</td>\n      <td>0.00</td>\n    </tr>\n    <tr>\n      <th>2</th>\n      <td>age</td>\n      <td>-14.94</td>\n    </tr>\n    <tr>\n      <th>3</th>\n      <td>age_range</td>\n      <td>1.61</td>\n    </tr>\n    <tr>\n      <th>4</th>\n      <td>Age</td>\n      <td>12.69</td>\n    </tr>\n    <tr>\n      <th>5</th>\n      <td>Self-Made Score</td>\n      <td>-2.03</td>\n    </tr>\n    <tr>\n      <th>6</th>\n      <td>Philanthropy Score</td>\n      <td>0.46</td>\n    </tr>\n    <tr>\n      <th>7</th>\n      <td>Children</td>\n      <td>3.08</td>\n    </tr>\n    <tr>\n      <th>8</th>\n      <td>Bachelor</td>\n      <td>1.67</td>\n    </tr>\n    <tr>\n      <th>9</th>\n      <td>Master</td>\n      <td>0.29</td>\n    </tr>\n    <tr>\n      <th>10</th>\n      <td>Doctorate</td>\n      <td>0.25</td>\n    </tr>\n    <tr>\n      <th>11</th>\n      <td>Drop Out</td>\n      <td>3.04</td>\n    </tr>\n    <tr>\n      <th>12</th>\n      <td>Self Made</td>\n      <td>2.30</td>\n    </tr>\n    <tr>\n      <th>13</th>\n      <td>industry_Automotive</td>\n      <td>1.82</td>\n    </tr>\n    <tr>\n      <th>14</th>\n      <td>industry_Construction &amp; Engineering</td>\n      <td>0.03</td>\n    </tr>\n    <tr>\n      <th>15</th>\n      <td>industry_Diversified</td>\n      <td>3.44</td>\n    </tr>\n    <tr>\n      <th>16</th>\n      <td>industry_Energy</td>\n      <td>-0.33</td>\n    </tr>\n    <tr>\n      <th>17</th>\n      <td>industry_Fashion &amp; Retail</td>\n      <td>2.11</td>\n    </tr>\n    <tr>\n      <th>18</th>\n      <td>industry_Finance &amp; Investments</td>\n      <td>-0.60</td>\n    </tr>\n    <tr>\n      <th>19</th>\n      <td>industry_Food &amp; Beverage</td>\n      <td>-1.33</td>\n    </tr>\n    <tr>\n      <th>20</th>\n      <td>industry_Gambling &amp; Casinos</td>\n      <td>0.39</td>\n    </tr>\n    <tr>\n      <th>21</th>\n      <td>industry_Healthcare</td>\n      <td>-1.22</td>\n    </tr>\n    <tr>\n      <th>22</th>\n      <td>industry_Logistics</td>\n      <td>-0.94</td>\n    </tr>\n    <tr>\n      <th>23</th>\n      <td>industry_Manufacturing</td>\n      <td>-0.55</td>\n    </tr>\n    <tr>\n      <th>24</th>\n      <td>industry_Media &amp; Entertainment</td>\n      <td>-1.06</td>\n    </tr>\n    <tr>\n      <th>25</th>\n      <td>industry_Metals &amp; Mining</td>\n      <td>0.00</td>\n    </tr>\n    <tr>\n      <th>26</th>\n      <td>industry_Real Estate</td>\n      <td>-0.69</td>\n    </tr>\n    <tr>\n      <th>27</th>\n      <td>industry_Service</td>\n      <td>-0.49</td>\n    </tr>\n    <tr>\n      <th>28</th>\n      <td>industry_Sports</td>\n      <td>-0.36</td>\n    </tr>\n    <tr>\n      <th>29</th>\n      <td>industry_Technology</td>\n      <td>0.96</td>\n    </tr>\n    <tr>\n      <th>30</th>\n      <td>industry_Telecom</td>\n      <td>0.28</td>\n    </tr>\n    <tr>\n      <th>31</th>\n      <td>Marital Status_Divorced</td>\n      <td>-0.30</td>\n    </tr>\n    <tr>\n      <th>32</th>\n      <td>Marital Status_Engaged</td>\n      <td>6.06</td>\n    </tr>\n    <tr>\n      <th>33</th>\n      <td>Marital Status_In Relationship</td>\n      <td>5.34</td>\n    </tr>\n    <tr>\n      <th>34</th>\n      <td>Marital Status_Married</td>\n      <td>-2.39</td>\n    </tr>\n    <tr>\n      <th>35</th>\n      <td>Marital Status_Separated</td>\n      <td>2.55</td>\n    </tr>\n    <tr>\n      <th>36</th>\n      <td>Marital Status_Single</td>\n      <td>6.16</td>\n    </tr>\n    <tr>\n      <th>37</th>\n      <td>Marital Status_Widowed</td>\n      <td>-1.02</td>\n    </tr>\n    <tr>\n      <th>38</th>\n      <td>Marital Status_Widowed, Remarried</td>\n      <td>-1.59</td>\n    </tr>\n  </tbody>\n</table>\n</div>"
     },
     "execution_count": 127,
     "metadata": {},
     "output_type": "execute_result"
    }
   ],
   "source": [
    "coef_vec = pd.DataFrame(reg1.params.round(2))\n",
    "\n",
    "coef_vec = coef_vec.reset_index()\n",
    "\n",
    "coef = coef_vec.rename(columns = {'index':'Variable_Names', 0:'MultiReg_coeff'})\n",
    "\n",
    "coef"
   ],
   "metadata": {
    "collapsed": false,
    "ExecuteTime": {
     "end_time": "2023-11-03T04:15:13.129147Z",
     "start_time": "2023-11-03T04:15:13.114084Z"
    }
   },
   "id": "a73e982b44e74cad"
  },
  {
   "cell_type": "code",
   "execution_count": 128,
   "outputs": [
    {
     "name": "stdout",
     "output_type": "stream",
     "text": [
      "Removing feature: industry_Construction & Engineering (p-value=0.9718)\n",
      "Removing feature: industry_Finance & Investments (p-value=0.8723)\n",
      "Removing feature: industry_Energy (p-value=0.9560)\n",
      "Removing feature: industry_Sports (p-value=0.9074)\n",
      "Removing feature: Doctorate (p-value=0.7854)\n",
      "Removing feature: industry_Manufacturing (p-value=0.7738)\n",
      "Removing feature: industry_Service (p-value=0.7753)\n",
      "Removing feature: industry_Real Estate (p-value=0.7557)\n",
      "Removing feature: Master (p-value=0.6841)\n",
      "Removing feature: age_range (p-value=0.6766)\n",
      "Removing feature: Marital Status_Divorced (p-value=0.6304)\n",
      "Removing feature: const (p-value=0.7624)\n",
      "Removing feature: industry_Telecom (p-value=0.6178)\n",
      "Removing feature: Age (p-value=0.5937)\n",
      "Removing feature: Philanthropy Score (p-value=0.5156)\n",
      "Removing feature: industry_Gambling & Casinos (p-value=0.5343)\n",
      "Removing feature: age (p-value=0.5129)\n",
      "Removing feature: industry_Media & Entertainment (p-value=0.3958)\n",
      "Removing feature: industry_Logistics (p-value=0.3622)\n",
      "Removing feature: Marital Status_Widowed (p-value=0.3689)\n",
      "Removing feature: industry_Healthcare (p-value=0.3653)\n",
      "Removing feature: industry_Food & Beverage (p-value=0.3279)\n",
      "Removing feature: industry_Metals & Mining (p-value=0.8259)\n",
      "Removing feature: Self-Made Score (p-value=0.2742)\n",
      "Removing feature: Self Made (p-value=0.3095)\n",
      "Removing feature: Marital Status_Widowed, Remarried (p-value=0.2195)\n",
      "Removing feature: Marital Status_Married (p-value=0.1742)\n",
      "Removing feature: Bachelor (p-value=0.1136)\n",
      "Removing feature: Drop Out (p-value=0.0548)\n"
     ]
    }
   ],
   "source": [
    "# Step 2 and 3: Iteratively remove features with p-values above 0.05\n",
    "insig_features = [] # Store names of insignificant features\n",
    "while True:\n",
    "    # Get the feature with the highest p-value\n",
    "    max_pvalue = reg1.pvalues[1:].max()\n",
    "    if max_pvalue > 0.05:\n",
    "        feature_to_remove = reg1.pvalues[1:].idxmax()\n",
    "        insig_features.append(feature_to_remove)\n",
    "        print(f\"Removing feature: {feature_to_remove} (p-value={max_pvalue:.4f})\")\n",
    "        \n",
    "        # Create a new OLS model without the feature to be removed\n",
    "        X_reg = X_reg.drop(feature_to_remove, axis=1)\n",
    "        X_reg = sm.add_constant(X_reg)\n",
    "        reg1 = sm.OLS(np.asarray(y_train), X_reg).fit()\n",
    "    else:\n",
    "        break"
   ],
   "metadata": {
    "collapsed": false,
    "ExecuteTime": {
     "end_time": "2023-11-03T04:15:19.050769Z",
     "start_time": "2023-11-03T04:15:18.832341Z"
    }
   },
   "id": "71e695bfb25dbaa9"
  },
  {
   "cell_type": "code",
   "execution_count": 129,
   "outputs": [
    {
     "data": {
      "text/plain": "array(['const', 'Children', 'industry_Automotive', 'industry_Diversified',\n       'industry_Fashion & Retail', 'industry_Technology',\n       'Marital Status_Engaged', 'Marital Status_In Relationship',\n       'Marital Status_Separated', 'Marital Status_Single'], dtype=object)"
     },
     "metadata": {},
     "output_type": "display_data"
    },
    {
     "data": {
      "text/plain": "array(['Children', 'industry_Automotive', 'industry_Diversified',\n       'industry_Fashion & Retail', 'industry_Technology',\n       'Marital Status_Engaged', 'Marital Status_In Relationship',\n       'Marital Status_Separated', 'Marital Status_Single'], dtype=object)"
     },
     "execution_count": 129,
     "metadata": {},
     "output_type": "execute_result"
    }
   ],
   "source": [
    "# Create a list of statistically significant variables to use for the final model\n",
    "results = reg1.params.reset_index()\n",
    "results = pd.DataFrame(results)\n",
    "stat_sig_Pred = results['index'].values\n",
    "display(stat_sig_Pred)\n",
    "stat_sig_Pred = np.delete(stat_sig_Pred, 0)\n",
    "stat_sig_Pred"
   ],
   "metadata": {
    "collapsed": false,
    "ExecuteTime": {
     "end_time": "2023-11-03T04:19:01.005840Z",
     "start_time": "2023-11-03T04:19:00.989934Z"
    }
   },
   "id": "90a2a11e8e45cc12"
  },
  {
   "cell_type": "code",
   "execution_count": 130,
   "outputs": [],
   "source": [
    "X_train_new = X_train_sc[stat_sig_Pred]\n",
    "X_train_new = sm.add_constant(X_train_new)\n",
    "\n",
    "reg = sm.OLS(np.asarray(y_train), X_train_new).fit()"
   ],
   "metadata": {
    "collapsed": false,
    "ExecuteTime": {
     "end_time": "2023-11-03T04:19:23.738270Z",
     "start_time": "2023-11-03T04:19:23.730542Z"
    }
   },
   "id": "51d9b58764ebb48c"
  },
  {
   "cell_type": "code",
   "execution_count": 131,
   "outputs": [
    {
     "data": {
      "text/plain": "                   Variable_Names  MultiReg_coeff\n0                           const            9.54\n1                        Children            2.65\n2             industry_Automotive            2.21\n3            industry_Diversified            3.78\n4       industry_Fashion & Retail            2.44\n5             industry_Technology            2.63\n6          Marital Status_Engaged            6.29\n7  Marital Status_In Relationship            5.85\n8        Marital Status_Separated            2.75\n9           Marital Status_Single            6.54",
      "text/html": "<div>\n<style scoped>\n    .dataframe tbody tr th:only-of-type {\n        vertical-align: middle;\n    }\n\n    .dataframe tbody tr th {\n        vertical-align: top;\n    }\n\n    .dataframe thead th {\n        text-align: right;\n    }\n</style>\n<table border=\"1\" class=\"dataframe\">\n  <thead>\n    <tr style=\"text-align: right;\">\n      <th></th>\n      <th>Variable_Names</th>\n      <th>MultiReg_coeff</th>\n    </tr>\n  </thead>\n  <tbody>\n    <tr>\n      <th>0</th>\n      <td>const</td>\n      <td>9.54</td>\n    </tr>\n    <tr>\n      <th>1</th>\n      <td>Children</td>\n      <td>2.65</td>\n    </tr>\n    <tr>\n      <th>2</th>\n      <td>industry_Automotive</td>\n      <td>2.21</td>\n    </tr>\n    <tr>\n      <th>3</th>\n      <td>industry_Diversified</td>\n      <td>3.78</td>\n    </tr>\n    <tr>\n      <th>4</th>\n      <td>industry_Fashion &amp; Retail</td>\n      <td>2.44</td>\n    </tr>\n    <tr>\n      <th>5</th>\n      <td>industry_Technology</td>\n      <td>2.63</td>\n    </tr>\n    <tr>\n      <th>6</th>\n      <td>Marital Status_Engaged</td>\n      <td>6.29</td>\n    </tr>\n    <tr>\n      <th>7</th>\n      <td>Marital Status_In Relationship</td>\n      <td>5.85</td>\n    </tr>\n    <tr>\n      <th>8</th>\n      <td>Marital Status_Separated</td>\n      <td>2.75</td>\n    </tr>\n    <tr>\n      <th>9</th>\n      <td>Marital Status_Single</td>\n      <td>6.54</td>\n    </tr>\n  </tbody>\n</table>\n</div>"
     },
     "execution_count": 131,
     "metadata": {},
     "output_type": "execute_result"
    }
   ],
   "source": [
    "coef_vec = pd.DataFrame(reg.params.round(2))\n",
    "\n",
    "coef_vec = coef_vec.reset_index()\n",
    "\n",
    "coef = coef_vec.rename(columns = {'index':'Variable_Names', 0:'MultiReg_coeff'})\n",
    "\n",
    "coef"
   ],
   "metadata": {
    "collapsed": false,
    "ExecuteTime": {
     "end_time": "2023-11-03T04:19:25.163731Z",
     "start_time": "2023-11-03T04:19:25.149253Z"
    }
   },
   "id": "338beba01e0e3a42"
  },
  {
   "cell_type": "code",
   "execution_count": null,
   "outputs": [],
   "source": [],
   "metadata": {
    "collapsed": false
   },
   "id": "7884eb98206a3f76"
  }
 ],
 "metadata": {
  "kernelspec": {
   "display_name": "Python 3 (ipykernel)",
   "language": "python",
   "name": "python3"
  },
  "language_info": {
   "codemirror_mode": {
    "name": "ipython",
    "version": 3
   },
   "file_extension": ".py",
   "mimetype": "text/x-python",
   "name": "python",
   "nbconvert_exporter": "python",
   "pygments_lexer": "ipython3",
   "version": "3.11.4"
  }
 },
 "nbformat": 4,
 "nbformat_minor": 5
}
