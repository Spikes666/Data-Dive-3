{
 "cells": [
  {
   "cell_type": "code",
   "execution_count": 1,
   "id": "initial_id",
   "metadata": {
    "collapsed": true,
    "ExecuteTime": {
     "end_time": "2023-11-02T14:26:03.829158Z",
     "start_time": "2023-11-02T14:26:02.570079Z"
    }
   },
   "outputs": [],
   "source": [
    "# Imports\n",
    "\n",
    "import pandas as pd\n",
    "import matplotlib.pyplot as plt\n",
    "plt.style.use('fivethirtyeight')\n",
    "%matplotlib inline"
   ]
  },
  {
   "cell_type": "code",
   "execution_count": 2,
   "outputs": [],
   "source": [
    "df= pd.read_csv('forbes_2640_billionaires.csv')"
   ],
   "metadata": {
    "collapsed": false,
    "ExecuteTime": {
     "end_time": "2023-11-02T14:26:04.773788Z",
     "start_time": "2023-11-02T14:26:04.743344Z"
    }
   },
   "id": "1cb9b975fba14860"
  },
  {
   "cell_type": "code",
   "execution_count": 3,
   "outputs": [
    {
     "name": "stdout",
     "output_type": "stream",
     "text": [
      "<class 'pandas.core.frame.DataFrame'>\n",
      "RangeIndex: 2640 entries, 0 to 2639\n",
      "Data columns (total 23 columns):\n",
      " #   Column              Non-Null Count  Dtype  \n",
      "---  ------              --------------  -----  \n",
      " 0   rank                2640 non-null   int64  \n",
      " 1   name                2640 non-null   object \n",
      " 2   forbes_id           2640 non-null   object \n",
      " 3   net_worth           2640 non-null   float64\n",
      " 4   age                 2575 non-null   float64\n",
      " 5   age_range           2640 non-null   int64  \n",
      " 6   country             2640 non-null   object \n",
      " 7   source              2640 non-null   object \n",
      " 8   industry            2640 non-null   object \n",
      " 9   Age                 2555 non-null   float64\n",
      " 10  Source of Wealth    2639 non-null   object \n",
      " 11  Self-Made Score     558 non-null    float64\n",
      " 12  Philanthropy Score  411 non-null    float64\n",
      " 13  Residence           2581 non-null   object \n",
      " 14  Citizenship         2629 non-null   object \n",
      " 15  Marital Status      2089 non-null   object \n",
      " 16  Children            1598 non-null   float64\n",
      " 17  Education           1415 non-null   object \n",
      " 18  Bachelor            1416 non-null   float64\n",
      " 19  Master              1416 non-null   float64\n",
      " 20  Doctorate           1416 non-null   float64\n",
      " 21  Drop Out            1416 non-null   float64\n",
      " 22  Self Made           2640 non-null   int64  \n",
      "dtypes: float64(10), int64(3), object(10)\n",
      "memory usage: 474.5+ KB\n"
     ]
    }
   ],
   "source": [
    "df.info()"
   ],
   "metadata": {
    "collapsed": false,
    "ExecuteTime": {
     "end_time": "2023-11-02T14:26:13.604659Z",
     "start_time": "2023-11-02T14:26:13.554980Z"
    }
   },
   "id": "c020d36f6d6794e6"
  },
  {
   "cell_type": "code",
   "execution_count": null,
   "outputs": [],
   "source": [],
   "metadata": {
    "collapsed": false
   },
   "id": "91efac15a7f8245"
  }
 ],
 "metadata": {
  "kernelspec": {
   "display_name": "Python 3",
   "language": "python",
   "name": "python3"
  },
  "language_info": {
   "codemirror_mode": {
    "name": "ipython",
    "version": 2
   },
   "file_extension": ".py",
   "mimetype": "text/x-python",
   "name": "python",
   "nbconvert_exporter": "python",
   "pygments_lexer": "ipython2",
   "version": "2.7.6"
  }
 },
 "nbformat": 4,
 "nbformat_minor": 5
}
